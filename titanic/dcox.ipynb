{
 "cells": [
  {
   "cell_type": "markdown",
   "metadata": {
    "_cell_guid": "0f2e1b48-de36-4da8-9df9-a2909a92b461",
    "_uuid": "721884fd77000b8b4e69c2af9958f4412afd2cff"
   },
   "source": [
    "# Predicting Titanic Survivers\n",
    "Like Titanic, this is my maiden voyage,  when it comes to Kaggle contest that is!. I've completed the Data Science track on Data Camp, but I'm a relative newbie when it comes to machine learning. I'm going to attempt to work my way through the Titanic: Machine Learning contest. My aim is to submission and initial entry as quickly as possible to get a base line score and then attempt to improve on  on it by first looking at missing data, then engineering key features before establishing a  secondary base line and trying to improve the model itself. I'd like to be able to achieve a score of .80\n",
    "\n",
    "Please feel free to post comments or  make suggestions as to what i may be doing wrong or could maybe do better and  consider upvoting if you find the notebook useful!"
   ]
  },
  {
   "cell_type": "markdown",
   "metadata": {
    "_cell_guid": "bb27af35-206d-4da2-8f33-63a6b6671c72",
    "_uuid": "13a824268233d8a6a7002be362847e2446aa2da6"
   },
   "source": [
    "# Import the Libraries and Data"
   ]
  },
  {
   "cell_type": "code",
   "execution_count": 49,
   "metadata": {
    "_cell_guid": "b1076dfc-b9ad-4769-8c92-a6c4dae69d19",
    "_uuid": "8f2839f25d086af736a60e9eeb907d3b93b6e0e5"
   },
   "outputs": [],
   "source": [
    "# This Python 3 environment comes with many helpful analytics libraries installed\n",
    "# It is defined by the kaggle/python docker image: https://github.com/kaggle/docker-python\n",
    "# For example, here's several helpful packages to load in \n",
    "\n",
    "import numpy as np # linear algebra\n",
    "import pandas as pd # data processing, CSV file I/O (e.g. pd.read_csv)\n",
    "import os\n",
    "\n",
    "import matplotlib.pyplot as plt\n",
    "%matplotlib inline\n",
    "import seaborn as sns\n",
    "\n",
    "from sklearn.model_selection import train_test_split\n",
    "from sklearn.metrics import accuracy_score\n",
    "from sklearn.linear_model import LogisticRegression\n",
    "from sklearn.multiclass import OneVsRestClassifier\n",
    "from sklearn.svm import SVC\n",
    "\n",
    "from sklearn.ensemble import (RandomForestClassifier, AdaBoostClassifier, \n",
    "                              GradientBoostingClassifier, ExtraTreesClassifier)\n",
    "from sklearn.cross_validation import KFold\n",
    "\n",
    "#ignore warnings\n",
    "import warnings\n",
    "warnings.filterwarnings('ignore')\n",
    "\n",
    "# Any results you write to the current directory are saved as output.\n",
    "\n",
    "df_train=pd.read_csv('~/.kaggle/competitions/titanic/train.csv',sep=',')\n",
    "df_test=pd.read_csv('~/.kaggle/competitions/titanic/test.csv',sep=',')\n",
    "df_data = df_train.append(df_test) # The entire data: train + test.\n",
    "\n",
    "PassengerId = df_test['PassengerId']\n",
    "Submission=pd.DataFrame()\n",
    "Submission['PassengerId'] = df_test['PassengerId']"
   ]
  },
  {
   "cell_type": "markdown",
   "metadata": {
    "_cell_guid": "eb5476cd-91d9-483c-a3b7-1590073da4d8",
    "_uuid": "1ce9a1b19b5440668849af3010cefd2c84f1b4f6"
   },
   "source": [
    "# Stage 1 : Explore the Data and create a basic model on raw data"
   ]
  },
  {
   "cell_type": "markdown",
   "metadata": {
    "_cell_guid": "79c7e3d0-c299-4dcb-8224-4455121ee9b0",
    "_uuid": "d629ff2d2480ee46fbb7e2d37f6b5fab8052498a",
    "collapsed": true
   },
   "source": [
    "# Explore the data Statistically"
   ]
  },
  {
   "cell_type": "markdown",
   "metadata": {
    "_cell_guid": "f191bda6-f63b-420a-8ae0-f2e22607b425",
    "_uuid": "bb5839d5b2d1036f98090fb2ec950f03304caec9"
   },
   "source": [
    "### Number of rows and columns "
   ]
  },
  {
   "cell_type": "code",
   "execution_count": 50,
   "metadata": {
    "_cell_guid": "073e7a38-5e62-427e-ba8d-72a7a5334442",
    "_uuid": "47cafc06d2881a01e80469d40ed38cbea126652c"
   },
   "outputs": [
    {
     "name": "stdout",
     "output_type": "stream",
     "text": [
      "(891, 12)\n",
      "----------------------------\n",
      "(418, 11)\n"
     ]
    }
   ],
   "source": [
    "# How big are the training and test datasets\n",
    "print(df_train.shape)\n",
    "print(\"----------------------------\")\n",
    "print(df_test.shape)"
   ]
  },
  {
   "cell_type": "markdown",
   "metadata": {
    "_cell_guid": "7bab27ce-09d8-43aa-8842-ee000e2d1e8d",
    "_uuid": "7e85c3850f8dd12a0e782456fb1c1986fbaf84b1"
   },
   "source": [
    "### Column Names"
   ]
  },
  {
   "cell_type": "code",
   "execution_count": 51,
   "metadata": {
    "_cell_guid": "4be833c5-e99c-4519-9b29-4d27699cfe12",
    "_uuid": "ec6fdc9350bc1e3ce83114c370008528e8109afa"
   },
   "outputs": [
    {
     "data": {
      "text/plain": [
       "Index(['PassengerId', 'Survived', 'Pclass', 'Name', 'Sex', 'Age', 'SibSp',\n",
       "       'Parch', 'Ticket', 'Fare', 'Cabin', 'Embarked'],\n",
       "      dtype='object')"
      ]
     },
     "execution_count": 51,
     "metadata": {},
     "output_type": "execute_result"
    }
   ],
   "source": [
    "# What are the column names \n",
    "df_train.columns"
   ]
  },
  {
   "cell_type": "markdown",
   "metadata": {
    "_cell_guid": "a340d978-40e3-407d-aadd-78a10c765178",
    "_uuid": "1c3996b06fe7470613faf06c5f0341103ec349e8"
   },
   "source": [
    "### Data Types"
   ]
  },
  {
   "cell_type": "code",
   "execution_count": 52,
   "metadata": {
    "_cell_guid": "1e27d5dd-1d67-438f-87c3-ea4577f297cd",
    "_uuid": "4534fe968fece75089f136f647d5ee9f1408b21e"
   },
   "outputs": [
    {
     "name": "stdout",
     "output_type": "stream",
     "text": [
      "<class 'pandas.core.frame.DataFrame'>\n",
      "Int64Index: 1309 entries, 0 to 417\n",
      "Data columns (total 12 columns):\n",
      "Age            1046 non-null float64\n",
      "Cabin          295 non-null object\n",
      "Embarked       1307 non-null object\n",
      "Fare           1308 non-null float64\n",
      "Name           1309 non-null object\n",
      "Parch          1309 non-null int64\n",
      "PassengerId    1309 non-null int64\n",
      "Pclass         1309 non-null int64\n",
      "Sex            1309 non-null object\n",
      "SibSp          1309 non-null int64\n",
      "Survived       891 non-null float64\n",
      "Ticket         1309 non-null object\n",
      "dtypes: float64(3), int64(4), object(5)\n",
      "memory usage: 132.9+ KB\n"
     ]
    }
   ],
   "source": [
    "# What type of data object are in each column and how many missing values are there\n",
    "df_data.info()"
   ]
  },
  {
   "cell_type": "markdown",
   "metadata": {
    "_cell_guid": "41a8e34c-ee85-4cdb-86d6-5f01e964c409",
    "_uuid": "f6b8fbba4bb96b7e3aeaa562176e60051846abc1"
   },
   "source": [
    "### Missing Data\n",
    "\n",
    "How much Data is missing from the training and test datasets, how important is that data and how much data cleaning might be required."
   ]
  },
  {
   "cell_type": "code",
   "execution_count": 53,
   "metadata": {
    "_cell_guid": "f9bee28e-9b27-4f2b-8bf5-8e7a2b09ebbf",
    "_uuid": "77c81d38447b990a95f21afe3fae8bb5f6d00b4e",
    "scrolled": true
   },
   "outputs": [
    {
     "name": "stdout",
     "output_type": "stream",
     "text": [
      "Age             263\n",
      "Cabin          1014\n",
      "Embarked          2\n",
      "Fare              1\n",
      "Name              0\n",
      "Parch             0\n",
      "PassengerId       0\n",
      "Pclass            0\n",
      "Sex               0\n",
      "SibSp             0\n",
      "Survived        418\n",
      "Ticket            0\n",
      "dtype: int64\n"
     ]
    }
   ],
   "source": [
    "#check for any other unusable values\n",
    "print(pd.isnull(df_data).sum())"
   ]
  },
  {
   "cell_type": "markdown",
   "metadata": {
    "_cell_guid": "11c1e7bb-6f12-48ca-8807-add46fb447f4",
    "_uuid": "5bf733a2fc59ab5fd469aa07d107c06ffddc50a2"
   },
   "source": [
    "## Observations on missing data.\n",
    "\n",
    "There are 144 missing ages in the training data and 86 mssing ages in the test data. Age is an important feature so it is worth spending time to address this properly. \n",
    "\n",
    "There are 468 missing Cabin entries in the training data and 326 in the test data, at this stage I'm not sure how important this feature is so I'm going to revisit this when I know more about the feature.\n",
    "There are 2 missing embarked data points in the train data and 1 missing fare in the test data, at this stage this does not represent a problem."
   ]
  },
  {
   "cell_type": "markdown",
   "metadata": {
    "_cell_guid": "8807eb08-dd68-45b9-ab5e-d810a98a8cbe",
    "_uuid": "9d051a3476f6271b33a955216e947b7aea3de0f3"
   },
   "source": [
    "## Statistical Overview of the data"
   ]
  },
  {
   "cell_type": "code",
   "execution_count": 54,
   "metadata": {
    "_cell_guid": "817d81d9-6912-4771-b654-b3d5af85ed46",
    "_uuid": "10dbf2b79a79bbdcb283fb8237cf9a7eb94bccb2"
   },
   "outputs": [
    {
     "data": {
      "text/html": [
       "<div>\n",
       "<style scoped>\n",
       "    .dataframe tbody tr th:only-of-type {\n",
       "        vertical-align: middle;\n",
       "    }\n",
       "\n",
       "    .dataframe tbody tr th {\n",
       "        vertical-align: top;\n",
       "    }\n",
       "\n",
       "    .dataframe thead th {\n",
       "        text-align: right;\n",
       "    }\n",
       "</style>\n",
       "<table border=\"1\" class=\"dataframe\">\n",
       "  <thead>\n",
       "    <tr style=\"text-align: right;\">\n",
       "      <th></th>\n",
       "      <th>PassengerId</th>\n",
       "      <th>Survived</th>\n",
       "      <th>Pclass</th>\n",
       "      <th>Age</th>\n",
       "      <th>SibSp</th>\n",
       "      <th>Parch</th>\n",
       "      <th>Fare</th>\n",
       "    </tr>\n",
       "  </thead>\n",
       "  <tbody>\n",
       "    <tr>\n",
       "      <th>count</th>\n",
       "      <td>891.000000</td>\n",
       "      <td>891.000000</td>\n",
       "      <td>891.000000</td>\n",
       "      <td>714.000000</td>\n",
       "      <td>891.000000</td>\n",
       "      <td>891.000000</td>\n",
       "      <td>891.000000</td>\n",
       "    </tr>\n",
       "    <tr>\n",
       "      <th>mean</th>\n",
       "      <td>446.000000</td>\n",
       "      <td>0.383838</td>\n",
       "      <td>2.308642</td>\n",
       "      <td>29.699118</td>\n",
       "      <td>0.523008</td>\n",
       "      <td>0.381594</td>\n",
       "      <td>32.204208</td>\n",
       "    </tr>\n",
       "    <tr>\n",
       "      <th>std</th>\n",
       "      <td>257.353842</td>\n",
       "      <td>0.486592</td>\n",
       "      <td>0.836071</td>\n",
       "      <td>14.526497</td>\n",
       "      <td>1.102743</td>\n",
       "      <td>0.806057</td>\n",
       "      <td>49.693429</td>\n",
       "    </tr>\n",
       "    <tr>\n",
       "      <th>min</th>\n",
       "      <td>1.000000</td>\n",
       "      <td>0.000000</td>\n",
       "      <td>1.000000</td>\n",
       "      <td>0.420000</td>\n",
       "      <td>0.000000</td>\n",
       "      <td>0.000000</td>\n",
       "      <td>0.000000</td>\n",
       "    </tr>\n",
       "    <tr>\n",
       "      <th>25%</th>\n",
       "      <td>223.500000</td>\n",
       "      <td>0.000000</td>\n",
       "      <td>2.000000</td>\n",
       "      <td>20.125000</td>\n",
       "      <td>0.000000</td>\n",
       "      <td>0.000000</td>\n",
       "      <td>7.910400</td>\n",
       "    </tr>\n",
       "    <tr>\n",
       "      <th>50%</th>\n",
       "      <td>446.000000</td>\n",
       "      <td>0.000000</td>\n",
       "      <td>3.000000</td>\n",
       "      <td>28.000000</td>\n",
       "      <td>0.000000</td>\n",
       "      <td>0.000000</td>\n",
       "      <td>14.454200</td>\n",
       "    </tr>\n",
       "    <tr>\n",
       "      <th>75%</th>\n",
       "      <td>668.500000</td>\n",
       "      <td>1.000000</td>\n",
       "      <td>3.000000</td>\n",
       "      <td>38.000000</td>\n",
       "      <td>1.000000</td>\n",
       "      <td>0.000000</td>\n",
       "      <td>31.000000</td>\n",
       "    </tr>\n",
       "    <tr>\n",
       "      <th>max</th>\n",
       "      <td>891.000000</td>\n",
       "      <td>1.000000</td>\n",
       "      <td>3.000000</td>\n",
       "      <td>80.000000</td>\n",
       "      <td>8.000000</td>\n",
       "      <td>6.000000</td>\n",
       "      <td>512.329200</td>\n",
       "    </tr>\n",
       "  </tbody>\n",
       "</table>\n",
       "</div>"
      ],
      "text/plain": [
       "       PassengerId    Survived      Pclass         Age       SibSp  \\\n",
       "count   891.000000  891.000000  891.000000  714.000000  891.000000   \n",
       "mean    446.000000    0.383838    2.308642   29.699118    0.523008   \n",
       "std     257.353842    0.486592    0.836071   14.526497    1.102743   \n",
       "min       1.000000    0.000000    1.000000    0.420000    0.000000   \n",
       "25%     223.500000    0.000000    2.000000   20.125000    0.000000   \n",
       "50%     446.000000    0.000000    3.000000   28.000000    0.000000   \n",
       "75%     668.500000    1.000000    3.000000   38.000000    1.000000   \n",
       "max     891.000000    1.000000    3.000000   80.000000    8.000000   \n",
       "\n",
       "            Parch        Fare  \n",
       "count  891.000000  891.000000  \n",
       "mean     0.381594   32.204208  \n",
       "std      0.806057   49.693429  \n",
       "min      0.000000    0.000000  \n",
       "25%      0.000000    7.910400  \n",
       "50%      0.000000   14.454200  \n",
       "75%      0.000000   31.000000  \n",
       "max      6.000000  512.329200  "
      ]
     },
     "execution_count": 54,
     "metadata": {},
     "output_type": "execute_result"
    }
   ],
   "source": [
    "# Get a statistical overview of the training data\n",
    "df_train.describe()"
   ]
  },
  {
   "cell_type": "code",
   "execution_count": 55,
   "metadata": {
    "_cell_guid": "e1a5061c-c823-4768-9fde-1eec950c9a75",
    "_uuid": "0e37aa2ae972acdbaeb6366bb55c838eef8bc76e"
   },
   "outputs": [
    {
     "data": {
      "text/html": [
       "<div>\n",
       "<style scoped>\n",
       "    .dataframe tbody tr th:only-of-type {\n",
       "        vertical-align: middle;\n",
       "    }\n",
       "\n",
       "    .dataframe tbody tr th {\n",
       "        vertical-align: top;\n",
       "    }\n",
       "\n",
       "    .dataframe thead th {\n",
       "        text-align: right;\n",
       "    }\n",
       "</style>\n",
       "<table border=\"1\" class=\"dataframe\">\n",
       "  <thead>\n",
       "    <tr style=\"text-align: right;\">\n",
       "      <th></th>\n",
       "      <th>PassengerId</th>\n",
       "      <th>Pclass</th>\n",
       "      <th>Age</th>\n",
       "      <th>SibSp</th>\n",
       "      <th>Parch</th>\n",
       "      <th>Fare</th>\n",
       "    </tr>\n",
       "  </thead>\n",
       "  <tbody>\n",
       "    <tr>\n",
       "      <th>count</th>\n",
       "      <td>418.000000</td>\n",
       "      <td>418.000000</td>\n",
       "      <td>332.000000</td>\n",
       "      <td>418.000000</td>\n",
       "      <td>418.000000</td>\n",
       "      <td>417.000000</td>\n",
       "    </tr>\n",
       "    <tr>\n",
       "      <th>mean</th>\n",
       "      <td>1100.500000</td>\n",
       "      <td>2.265550</td>\n",
       "      <td>30.272590</td>\n",
       "      <td>0.447368</td>\n",
       "      <td>0.392344</td>\n",
       "      <td>35.627188</td>\n",
       "    </tr>\n",
       "    <tr>\n",
       "      <th>std</th>\n",
       "      <td>120.810458</td>\n",
       "      <td>0.841838</td>\n",
       "      <td>14.181209</td>\n",
       "      <td>0.896760</td>\n",
       "      <td>0.981429</td>\n",
       "      <td>55.907576</td>\n",
       "    </tr>\n",
       "    <tr>\n",
       "      <th>min</th>\n",
       "      <td>892.000000</td>\n",
       "      <td>1.000000</td>\n",
       "      <td>0.170000</td>\n",
       "      <td>0.000000</td>\n",
       "      <td>0.000000</td>\n",
       "      <td>0.000000</td>\n",
       "    </tr>\n",
       "    <tr>\n",
       "      <th>25%</th>\n",
       "      <td>996.250000</td>\n",
       "      <td>1.000000</td>\n",
       "      <td>21.000000</td>\n",
       "      <td>0.000000</td>\n",
       "      <td>0.000000</td>\n",
       "      <td>7.895800</td>\n",
       "    </tr>\n",
       "    <tr>\n",
       "      <th>50%</th>\n",
       "      <td>1100.500000</td>\n",
       "      <td>3.000000</td>\n",
       "      <td>27.000000</td>\n",
       "      <td>0.000000</td>\n",
       "      <td>0.000000</td>\n",
       "      <td>14.454200</td>\n",
       "    </tr>\n",
       "    <tr>\n",
       "      <th>75%</th>\n",
       "      <td>1204.750000</td>\n",
       "      <td>3.000000</td>\n",
       "      <td>39.000000</td>\n",
       "      <td>1.000000</td>\n",
       "      <td>0.000000</td>\n",
       "      <td>31.500000</td>\n",
       "    </tr>\n",
       "    <tr>\n",
       "      <th>max</th>\n",
       "      <td>1309.000000</td>\n",
       "      <td>3.000000</td>\n",
       "      <td>76.000000</td>\n",
       "      <td>8.000000</td>\n",
       "      <td>9.000000</td>\n",
       "      <td>512.329200</td>\n",
       "    </tr>\n",
       "  </tbody>\n",
       "</table>\n",
       "</div>"
      ],
      "text/plain": [
       "       PassengerId      Pclass         Age       SibSp       Parch        Fare\n",
       "count   418.000000  418.000000  332.000000  418.000000  418.000000  417.000000\n",
       "mean   1100.500000    2.265550   30.272590    0.447368    0.392344   35.627188\n",
       "std     120.810458    0.841838   14.181209    0.896760    0.981429   55.907576\n",
       "min     892.000000    1.000000    0.170000    0.000000    0.000000    0.000000\n",
       "25%     996.250000    1.000000   21.000000    0.000000    0.000000    7.895800\n",
       "50%    1100.500000    3.000000   27.000000    0.000000    0.000000   14.454200\n",
       "75%    1204.750000    3.000000   39.000000    1.000000    0.000000   31.500000\n",
       "max    1309.000000    3.000000   76.000000    8.000000    9.000000  512.329200"
      ]
     },
     "execution_count": 55,
     "metadata": {},
     "output_type": "execute_result"
    }
   ],
   "source": [
    "# Get a statistical overview of the data\n",
    "df_test.describe()"
   ]
  },
  {
   "cell_type": "markdown",
   "metadata": {
    "_cell_guid": "53ce0b2e-724d-4530-87e4-9812597c1583",
    "_uuid": "7a99c489c6f184666d3e5586db6de3a441c1d0c6"
   },
   "source": [
    "Note: The mean and Std of each of the columns in the 2 datasets are reasonable close together, so its safe to assume that any relationships we discover in the  training data should work similarly in the test data."
   ]
  },
  {
   "cell_type": "code",
   "execution_count": 56,
   "metadata": {
    "_cell_guid": "37d3c26f-7b3e-411d-b939-ad874ba31eea",
    "_uuid": "ec577a60cb08406719037e966a974f29573b57fb"
   },
   "outputs": [
    {
     "data": {
      "text/html": [
       "<div>\n",
       "<style scoped>\n",
       "    .dataframe tbody tr th:only-of-type {\n",
       "        vertical-align: middle;\n",
       "    }\n",
       "\n",
       "    .dataframe tbody tr th {\n",
       "        vertical-align: top;\n",
       "    }\n",
       "\n",
       "    .dataframe thead th {\n",
       "        text-align: right;\n",
       "    }\n",
       "</style>\n",
       "<table border=\"1\" class=\"dataframe\">\n",
       "  <thead>\n",
       "    <tr style=\"text-align: right;\">\n",
       "      <th></th>\n",
       "      <th>PassengerId</th>\n",
       "      <th>Survived</th>\n",
       "      <th>Pclass</th>\n",
       "      <th>Name</th>\n",
       "      <th>Sex</th>\n",
       "      <th>Age</th>\n",
       "      <th>SibSp</th>\n",
       "      <th>Parch</th>\n",
       "      <th>Ticket</th>\n",
       "      <th>Fare</th>\n",
       "      <th>Cabin</th>\n",
       "      <th>Embarked</th>\n",
       "    </tr>\n",
       "  </thead>\n",
       "  <tbody>\n",
       "    <tr>\n",
       "      <th>0</th>\n",
       "      <td>1</td>\n",
       "      <td>0</td>\n",
       "      <td>3</td>\n",
       "      <td>Braund, Mr. Owen Harris</td>\n",
       "      <td>male</td>\n",
       "      <td>22.0</td>\n",
       "      <td>1</td>\n",
       "      <td>0</td>\n",
       "      <td>A/5 21171</td>\n",
       "      <td>7.2500</td>\n",
       "      <td>NaN</td>\n",
       "      <td>S</td>\n",
       "    </tr>\n",
       "    <tr>\n",
       "      <th>1</th>\n",
       "      <td>2</td>\n",
       "      <td>1</td>\n",
       "      <td>1</td>\n",
       "      <td>Cumings, Mrs. John Bradley (Florence Briggs Th...</td>\n",
       "      <td>female</td>\n",
       "      <td>38.0</td>\n",
       "      <td>1</td>\n",
       "      <td>0</td>\n",
       "      <td>PC 17599</td>\n",
       "      <td>71.2833</td>\n",
       "      <td>C85</td>\n",
       "      <td>C</td>\n",
       "    </tr>\n",
       "    <tr>\n",
       "      <th>2</th>\n",
       "      <td>3</td>\n",
       "      <td>1</td>\n",
       "      <td>3</td>\n",
       "      <td>Heikkinen, Miss. Laina</td>\n",
       "      <td>female</td>\n",
       "      <td>26.0</td>\n",
       "      <td>0</td>\n",
       "      <td>0</td>\n",
       "      <td>STON/O2. 3101282</td>\n",
       "      <td>7.9250</td>\n",
       "      <td>NaN</td>\n",
       "      <td>S</td>\n",
       "    </tr>\n",
       "    <tr>\n",
       "      <th>3</th>\n",
       "      <td>4</td>\n",
       "      <td>1</td>\n",
       "      <td>1</td>\n",
       "      <td>Futrelle, Mrs. Jacques Heath (Lily May Peel)</td>\n",
       "      <td>female</td>\n",
       "      <td>35.0</td>\n",
       "      <td>1</td>\n",
       "      <td>0</td>\n",
       "      <td>113803</td>\n",
       "      <td>53.1000</td>\n",
       "      <td>C123</td>\n",
       "      <td>S</td>\n",
       "    </tr>\n",
       "    <tr>\n",
       "      <th>4</th>\n",
       "      <td>5</td>\n",
       "      <td>0</td>\n",
       "      <td>3</td>\n",
       "      <td>Allen, Mr. William Henry</td>\n",
       "      <td>male</td>\n",
       "      <td>35.0</td>\n",
       "      <td>0</td>\n",
       "      <td>0</td>\n",
       "      <td>373450</td>\n",
       "      <td>8.0500</td>\n",
       "      <td>NaN</td>\n",
       "      <td>S</td>\n",
       "    </tr>\n",
       "  </tbody>\n",
       "</table>\n",
       "</div>"
      ],
      "text/plain": [
       "   PassengerId  Survived  Pclass  \\\n",
       "0            1         0       3   \n",
       "1            2         1       1   \n",
       "2            3         1       3   \n",
       "3            4         1       1   \n",
       "4            5         0       3   \n",
       "\n",
       "                                                Name     Sex   Age  SibSp  \\\n",
       "0                            Braund, Mr. Owen Harris    male  22.0      1   \n",
       "1  Cumings, Mrs. John Bradley (Florence Briggs Th...  female  38.0      1   \n",
       "2                             Heikkinen, Miss. Laina  female  26.0      0   \n",
       "3       Futrelle, Mrs. Jacques Heath (Lily May Peel)  female  35.0      1   \n",
       "4                           Allen, Mr. William Henry    male  35.0      0   \n",
       "\n",
       "   Parch            Ticket     Fare Cabin Embarked  \n",
       "0      0         A/5 21171   7.2500   NaN        S  \n",
       "1      0          PC 17599  71.2833   C85        C  \n",
       "2      0  STON/O2. 3101282   7.9250   NaN        S  \n",
       "3      0            113803  53.1000  C123        S  \n",
       "4      0            373450   8.0500   NaN        S  "
      ]
     },
     "execution_count": 56,
     "metadata": {},
     "output_type": "execute_result"
    }
   ],
   "source": [
    "# Take a look at some sample data\n",
    "df_train.head(5)"
   ]
  },
  {
   "cell_type": "code",
   "execution_count": 57,
   "metadata": {
    "_cell_guid": "9dd2bf45-bda2-4dab-bc69-8a8e46c1b72b",
    "_uuid": "30ca0953dbf13567cfccfd96bacf7e76f4474984"
   },
   "outputs": [
    {
     "data": {
      "text/html": [
       "<div>\n",
       "<style scoped>\n",
       "    .dataframe tbody tr th:only-of-type {\n",
       "        vertical-align: middle;\n",
       "    }\n",
       "\n",
       "    .dataframe tbody tr th {\n",
       "        vertical-align: top;\n",
       "    }\n",
       "\n",
       "    .dataframe thead th {\n",
       "        text-align: right;\n",
       "    }\n",
       "</style>\n",
       "<table border=\"1\" class=\"dataframe\">\n",
       "  <thead>\n",
       "    <tr style=\"text-align: right;\">\n",
       "      <th></th>\n",
       "      <th>PassengerId</th>\n",
       "      <th>Survived</th>\n",
       "      <th>Pclass</th>\n",
       "      <th>Name</th>\n",
       "      <th>Sex</th>\n",
       "      <th>Age</th>\n",
       "      <th>SibSp</th>\n",
       "      <th>Parch</th>\n",
       "      <th>Ticket</th>\n",
       "      <th>Fare</th>\n",
       "      <th>Cabin</th>\n",
       "      <th>Embarked</th>\n",
       "    </tr>\n",
       "  </thead>\n",
       "  <tbody>\n",
       "    <tr>\n",
       "      <th>886</th>\n",
       "      <td>887</td>\n",
       "      <td>0</td>\n",
       "      <td>2</td>\n",
       "      <td>Montvila, Rev. Juozas</td>\n",
       "      <td>male</td>\n",
       "      <td>27.0</td>\n",
       "      <td>0</td>\n",
       "      <td>0</td>\n",
       "      <td>211536</td>\n",
       "      <td>13.00</td>\n",
       "      <td>NaN</td>\n",
       "      <td>S</td>\n",
       "    </tr>\n",
       "    <tr>\n",
       "      <th>887</th>\n",
       "      <td>888</td>\n",
       "      <td>1</td>\n",
       "      <td>1</td>\n",
       "      <td>Graham, Miss. Margaret Edith</td>\n",
       "      <td>female</td>\n",
       "      <td>19.0</td>\n",
       "      <td>0</td>\n",
       "      <td>0</td>\n",
       "      <td>112053</td>\n",
       "      <td>30.00</td>\n",
       "      <td>B42</td>\n",
       "      <td>S</td>\n",
       "    </tr>\n",
       "    <tr>\n",
       "      <th>888</th>\n",
       "      <td>889</td>\n",
       "      <td>0</td>\n",
       "      <td>3</td>\n",
       "      <td>Johnston, Miss. Catherine Helen \"Carrie\"</td>\n",
       "      <td>female</td>\n",
       "      <td>NaN</td>\n",
       "      <td>1</td>\n",
       "      <td>2</td>\n",
       "      <td>W./C. 6607</td>\n",
       "      <td>23.45</td>\n",
       "      <td>NaN</td>\n",
       "      <td>S</td>\n",
       "    </tr>\n",
       "    <tr>\n",
       "      <th>889</th>\n",
       "      <td>890</td>\n",
       "      <td>1</td>\n",
       "      <td>1</td>\n",
       "      <td>Behr, Mr. Karl Howell</td>\n",
       "      <td>male</td>\n",
       "      <td>26.0</td>\n",
       "      <td>0</td>\n",
       "      <td>0</td>\n",
       "      <td>111369</td>\n",
       "      <td>30.00</td>\n",
       "      <td>C148</td>\n",
       "      <td>C</td>\n",
       "    </tr>\n",
       "    <tr>\n",
       "      <th>890</th>\n",
       "      <td>891</td>\n",
       "      <td>0</td>\n",
       "      <td>3</td>\n",
       "      <td>Dooley, Mr. Patrick</td>\n",
       "      <td>male</td>\n",
       "      <td>32.0</td>\n",
       "      <td>0</td>\n",
       "      <td>0</td>\n",
       "      <td>370376</td>\n",
       "      <td>7.75</td>\n",
       "      <td>NaN</td>\n",
       "      <td>Q</td>\n",
       "    </tr>\n",
       "  </tbody>\n",
       "</table>\n",
       "</div>"
      ],
      "text/plain": [
       "     PassengerId  Survived  Pclass                                      Name  \\\n",
       "886          887         0       2                     Montvila, Rev. Juozas   \n",
       "887          888         1       1              Graham, Miss. Margaret Edith   \n",
       "888          889         0       3  Johnston, Miss. Catherine Helen \"Carrie\"   \n",
       "889          890         1       1                     Behr, Mr. Karl Howell   \n",
       "890          891         0       3                       Dooley, Mr. Patrick   \n",
       "\n",
       "        Sex   Age  SibSp  Parch      Ticket   Fare Cabin Embarked  \n",
       "886    male  27.0      0      0      211536  13.00   NaN        S  \n",
       "887  female  19.0      0      0      112053  30.00   B42        S  \n",
       "888  female   NaN      1      2  W./C. 6607  23.45   NaN        S  \n",
       "889    male  26.0      0      0      111369  30.00  C148        C  \n",
       "890    male  32.0      0      0      370376   7.75   NaN        Q  "
      ]
     },
     "execution_count": 57,
     "metadata": {},
     "output_type": "execute_result"
    }
   ],
   "source": [
    "df_train.tail(5)"
   ]
  },
  {
   "cell_type": "markdown",
   "metadata": {
    "_cell_guid": "2275818c-6652-4070-be61-b17a7e4b0b5e",
    "_uuid": "76fbda700a5f261b31759ade3e8c2c93d7458c01"
   },
   "source": [
    "# Explore Data Graphically"
   ]
  },
  {
   "cell_type": "markdown",
   "metadata": {
    "_cell_guid": "76f9e3e9-db43-4cc4-a4cd-5f54003fe573",
    "_uuid": "45b16cde292ad9c45d0143e99a2be8f11ed9608b"
   },
   "source": [
    "## Survival by Age, Class and Gender"
   ]
  },
  {
   "cell_type": "code",
   "execution_count": 58,
   "metadata": {
    "_cell_guid": "158f3ef3-80fd-464d-a837-6b916926bbb2",
    "_uuid": "88e91d960cd9f7ec2fa3a635d93e69e54c4e338a"
   },
   "outputs": [
    {
     "data": {
      "text/plain": [
       "<seaborn.axisgrid.FacetGrid at 0x7fc2821b4da0>"
      ]
     },
     "execution_count": 58,
     "metadata": {},
     "output_type": "execute_result"
    },
    {
     "data": {
      "image/png": "[encoded data removed]",
      "text/plain": [
       "<matplotlib.figure.Figure at 0x7fc2821b4c50>"
      ]
     },
     "metadata": {},
     "output_type": "display_data"
    }
   ],
   "source": [
    "grid = sns.FacetGrid(df_train, col = \"Pclass\", row = \"Sex\", hue = \"Survived\", palette = 'seismic')\n",
    "grid = grid.map(plt.scatter, \"PassengerId\", \"Age\")\n",
    "grid.add_legend()\n",
    "grid"
   ]
  },
  {
   "cell_type": "markdown",
   "metadata": {
    "_cell_guid": "3cf55d17-8577-47cc-b81e-8c8fc89d60dc",
    "_uuid": "3d94018b485b98ae9744f17e6ead6f604061cbb6"
   },
   "source": [
    "## Survival by Age, Port of Embarkation and Gender"
   ]
  },
  {
   "cell_type": "code",
   "execution_count": 59,
   "metadata": {
    "_cell_guid": "e5f3871e-6638-426d-b0d9-5ed92d0ff1b5",
    "_uuid": "706c28dd41dc6ace4ba207bf027f59181cd14f05"
   },
   "outputs": [
    {
     "data": {
      "text/plain": [
       "<seaborn.axisgrid.FacetGrid at 0x7fc2821b4dd8>"
      ]
     },
     "execution_count": 59,
     "metadata": {},
     "output_type": "execute_result"
    },
    {
     "data": {
      "image/png": "[encoded data removed]",
      "text/plain": [
       "<matplotlib.figure.Figure at 0x7fc2821b4f60>"
      ]
     },
     "metadata": {},
     "output_type": "display_data"
    }
   ],
   "source": [
    "grid = sns.FacetGrid(df_train, col = \"Embarked\", row = \"Sex\", hue = \"Survived\", palette = 'seismic')\n",
    "grid = grid.map(plt.scatter, \"PassengerId\", \"Age\")\n",
    "grid.add_legend()\n",
    "grid"
   ]
  },
  {
   "cell_type": "markdown",
   "metadata": {
    "_cell_guid": "be3ae2ae-f77b-4ae4-b8f2-09c5e6138907",
    "_uuid": "1687792f3f9915fe72cd2766681000ae74554361"
   },
   "source": [
    "This embarkation visualization indicates that a large proportion of passengers embarked at port 'S', with lesser numbers at 'C' and 'Q' it also shows that regardless of embarkation port more women survived than men. It doesn't seem to show any corelation between passenger ID and Embarkation port. Interestingly Embarkation port Q seems to indicate that  only 1 man survived while all women with passenger ID below 500 seem to survive while those above didn't this may be chance but it does look odd compared to 'S' and 'C'."
   ]
  },
  {
   "cell_type": "markdown",
   "metadata": {
    "_cell_guid": "0d5d257f-0b2c-4f43-9090-c74053973f07",
    "_uuid": "c963f65c9a8f91b04102ce3e4d63ed1062f7d7ee"
   },
   "source": [
    "## Survival by Age, Number of Siblings and Gender"
   ]
  },
  {
   "cell_type": "code",
   "execution_count": 60,
   "metadata": {
    "_cell_guid": "82442bd9-cdfc-4f9b-9ebc-9f69238159aa",
    "_uuid": "b365e7b30eb770a2d1e77e4a95d9b4c1ced60c6b"
   },
   "outputs": [
    {
     "data": {
      "text/plain": [
       "<seaborn.axisgrid.FacetGrid at 0x7fc281d4aa90>"
      ]
     },
     "execution_count": 60,
     "metadata": {},
     "output_type": "execute_result"
    },
    {
     "data": {
      "image/png": "[encoded data removed]",
      "text/plain": [
       "<matplotlib.figure.Figure at 0x7fc281fa2978>"
      ]
     },
     "metadata": {},
     "output_type": "display_data"
    }
   ],
   "source": [
    "grid = sns.FacetGrid(df_train, col = \"SibSp\", row = \"Sex\", hue = \"Survived\", palette = 'seismic')\n",
    "grid = grid.map(plt.scatter, \"PassengerId\", \"Age\")\n",
    "grid.add_legend()\n",
    "grid"
   ]
  },
  {
   "cell_type": "markdown",
   "metadata": {
    "_cell_guid": "10118d5d-4913-4804-93f8-f2d19954c8cd",
    "_uuid": "e7bcda55320028f7e6f8da737e88bba582f560c8"
   },
   "source": [
    "## Survival by Age, Number of parch and Gender"
   ]
  },
  {
   "cell_type": "code",
   "execution_count": 61,
   "metadata": {
    "_cell_guid": "e7e9b15d-5ace-4571-8462-eecb93f7d6ec",
    "_uuid": "8c5c3db479f52e13aa80b6025c351eda045e97fb"
   },
   "outputs": [
    {
     "data": {
      "text/plain": [
       "<seaborn.axisgrid.FacetGrid at 0x7fc28227a358>"
      ]
     },
     "execution_count": 61,
     "metadata": {},
     "output_type": "execute_result"
    },
    {
     "data": {
      "image/png": "[encoded data removed]",
      "text/plain": [
       "<matplotlib.figure.Figure at 0x7fc281a8b1d0>"
      ]
     },
     "metadata": {},
     "output_type": "display_data"
    }
   ],
   "source": [
    "grid = sns.FacetGrid(df_train, col = \"Parch\", row = \"Sex\", hue = \"Survived\", palette = 'seismic')\n",
    "grid = grid.map(plt.scatter, \"PassengerId\", \"Age\")\n",
    "grid.add_legend()\n",
    "grid"
   ]
  },
  {
   "cell_type": "markdown",
   "metadata": {
    "_cell_guid": "f001f636-fc2a-4881-a81e-53edabf53242",
    "_uuid": "fb00c6099b7f836f3610e911075f78af6ca724f2"
   },
   "source": [
    "# Pairplots\n",
    "\n",
    "To get a very basic idea of the relationships between the different features we can use pairplots from seaborn."
   ]
  },
  {
   "cell_type": "code",
   "execution_count": 62,
   "metadata": {
    "_cell_guid": "60f3f81f-4401-4659-b457-4200cabdf2b5",
    "_uuid": "b81a66434766fce1abfc6ad160ec6a62bee97887",
    "scrolled": false
   },
   "outputs": [
    {
     "data": {
      "text/plain": [
       "<seaborn.axisgrid.PairGrid at 0x7fc2817b5438>"
      ]
     },
     "execution_count": 62,
     "metadata": {},
     "output_type": "execute_result"
    },
    {
     "data": {
      "image/png": "[encoded data removed]",
      "text/plain": [
       "<matplotlib.figure.Figure at 0x7fc2817b59e8>"
      ]
     },
     "metadata": {},
     "output_type": "display_data"
    }
   ],
   "source": [
    "g = sns.pairplot(df_train[[u'Survived', u'Pclass', u'Sex', u'Age', u'Parch', u'Fare', u'Embarked']], hue='Survived', palette = 'seismic',size=4,diag_kind = 'kde',diag_kws=dict(shade=True),plot_kws=dict(s=50) )\n",
    "g.set(xticklabels=[])"
   ]
  },
  {
   "cell_type": "markdown",
   "metadata": {
    "_cell_guid": "1de34739-550f-4384-a3e0-0ea807bb297e",
    "_uuid": "ab4504d0c13948980ed23f80d155fd7d31cd4301"
   },
   "source": [
    "# Create simple model\n",
    "\n",
    "Create a baseline score by using old the standard numeric data on on a very basic model, this will be used to see how much any changes we make to the data or model improve performance."
   ]
  },
  {
   "cell_type": "code",
   "execution_count": 63,
   "metadata": {
    "_cell_guid": "dd1b861c-f4d7-4d2f-a131-9b6f59b48624",
    "_uuid": "ca99023e73866ccccf2b58dadd69242defaea90c"
   },
   "outputs": [
    {
     "name": "stdout",
     "output_type": "stream",
     "text": [
      "Accuracy: 0.6791044776119403\n"
     ]
    }
   ],
   "source": [
    "NUMERIC_COLUMNS=['Pclass','Age','SibSp','Parch','Fare']\n",
    "\n",
    "# create test and training data\n",
    "data_to_train = df_train[NUMERIC_COLUMNS].fillna(-1000)\n",
    "y=df_train['Survived']\n",
    "X=data_to_train\n",
    "X_train, X_test, y_train, y_test = train_test_split(X, y, test_size=0.3,random_state=21, stratify=y)\n",
    "\n",
    "from sklearn.svm import LinearSVC\n",
    "\n",
    "clf = SVC()\n",
    "clf.fit(X_train, y_train)\n",
    "linear_svc = LinearSVC()\n",
    "\n",
    "# Print the accuracy\n",
    "print(\"Accuracy: {}\".format(clf.score(X_test, y_test)))"
   ]
  },
  {
   "cell_type": "markdown",
   "metadata": {
    "_cell_guid": "23cb1c05-31ae-4676-934e-62c0e3f53821",
    "_uuid": "a9a81d694ac9b10f1558318ca64ec38d689411e0"
   },
   "source": [
    "# Create initial predictions¶"
   ]
  },
  {
   "cell_type": "code",
   "execution_count": 64,
   "metadata": {
    "_cell_guid": "edb5f39c-2c88-4c42-9bde-f6375503cef3",
    "_uuid": "50e1643054e16b31c2234ba18df0176ae4c44696"
   },
   "outputs": [],
   "source": [
    "test = df_test[NUMERIC_COLUMNS].fillna(-1000)\n",
    "Submission['Survived']=clf.predict(test)"
   ]
  },
  {
   "cell_type": "markdown",
   "metadata": {
    "_cell_guid": "262a3df0-1a62-40bb-be9c-48bbc2787847",
    "_uuid": "df612c7f8c676da096cf50c3640b882a9443d330"
   },
   "source": [
    "# Make first Submission"
   ]
  },
  {
   "cell_type": "code",
   "execution_count": 65,
   "metadata": {
    "_cell_guid": "3ab17c71-9324-48ee-815f-e3a92f9cd074",
    "_kg_hide-output": true,
    "_uuid": "5b2bf28e6ab4b43d8368df9606f2d3d18d1bd4ab"
   },
   "outputs": [],
   "source": [
    "# write data frame to csv file\n",
    "Submission.set_index('PassengerId', inplace=True)\n",
    "Submission.to_csv('myfirstsubmission.csv',sep=',')"
   ]
  },
  {
   "cell_type": "markdown",
   "metadata": {
    "_cell_guid": "f66f0981-d9dd-4c9f-ac7a-f63fddb16dd4",
    "_uuid": "b50c6f50f7d672349871e631132d9f941ba1a02f"
   },
   "source": [
    "The result of this first submission was a score of 0.57894. This constitutes performing just above random, if i'd simply flipped a coin fair coin for each passenger i could have achieved this kind of score. So there is plenty of room for improvement."
   ]
  },
  {
   "cell_type": "markdown",
   "metadata": {
    "_cell_guid": "3a0ea6c3-2148-408e-b1eb-12b9b4f5cf6b",
    "_uuid": "c4c7faeb87fbe3324c324a01a0dc9bac3e31829d"
   },
   "source": [
    "# Stage 2 : Clean Data & Engineer features to improve results\n",
    "\n",
    "Here I am going to go with the principal that those that were in the lifeboats were more likely to survive and from history we know that the women and children were given priority for the life boat places. So i am going to try and engineer features to help the model find the women and children. I've also going to use these features to further explore the data statistically and visually to see if there are further patterns in the data that will help identify additional patterns that might explain anomolies to this, from the initial visualisations it appearred that class might also play a major role in whether certain groups of passengers survived or not.    "
   ]
  },
  {
   "cell_type": "markdown",
   "metadata": {
    "_cell_guid": "5fb4b386-5579-4d42-a396-592f3b3965cd",
    "_uuid": "a2cff155acb305e954ec2635b045bba7fa1cc990"
   },
   "source": [
    "# Filling in the blanks"
   ]
  },
  {
   "cell_type": "markdown",
   "metadata": {
    "_cell_guid": "8cf4c617-baf1-4172-85e0-7ae1754e23a8",
    "_uuid": "fad3c30cc68e471b84be592166cc2a661c4a357f"
   },
   "source": [
    "## Estimate missing Fare Data based on Embarkation\n",
    "While there is relatively little missing Fare data, the range of possible values is large, so rather than using simply the media of all fares, we can look at the passenger class or embarkation port in order to use a more appropriate average. We'll start by looking at boxplots for the fares to ensure we are making soon assumptions before we go onto estimating the missing values."
   ]
  },
  {
   "cell_type": "code",
   "execution_count": 66,
   "metadata": {
    "_cell_guid": "dc5090b5-1bb7-4ede-805e-62d9d4901867",
    "_uuid": "7bec995c8fc6a1bdc6634d9eaeafd5f7acd617c4"
   },
   "outputs": [
    {
     "data": {
      "image/png": "[encoded data removed]",
      "text/plain": [
       "<matplotlib.figure.Figure at 0x7fc27fcf2b70>"
      ]
     },
     "metadata": {},
     "output_type": "display_data"
    }
   ],
   "source": [
    "fig, (ax1, ax2) = plt.subplots(ncols=2, sharey=True,figsize=(12,6))\n",
    "sns.boxplot(data = df_train, x = \"Pclass\", y = \"Fare\",ax=ax1);\n",
    "plt.figure(1)\n",
    "sns.boxplot(data = df_train, x = \"Embarked\", y = \"Fare\",ax=ax2);\n",
    "plt.show()"
   ]
  },
  {
   "cell_type": "code",
   "execution_count": 67,
   "metadata": {
    "_cell_guid": "2a05e7be-844e-4c77-96a2-bfb146afc694",
    "_uuid": "af9325ff33b555d3f2d69495baec14ad59dd19a0"
   },
   "outputs": [
    {
     "name": "stdout",
     "output_type": "stream",
     "text": [
      "Missing Fares Estimated\n"
     ]
    }
   ],
   "source": [
    "# Fill the na values in Fare based on embarked data\n",
    "embarked = ['S', 'C', 'Q']\n",
    "for port in embarked:\n",
    "    fare_to_impute = df_data.groupby('Embarked')['Fare'].median()[embarked.index(port)]\n",
    "    df_data.loc[(df_data['Fare'].isnull()) & (df_data['Embarked'] == port), 'Fare'] = fare_to_impute\n",
    "# Fare in df_train and df_test:\n",
    "df_train[\"Fare\"] = df_data['Fare'][:891]\n",
    "df_test[\"Fare\"] = df_data['Fare'][891:]\n",
    "print('Missing Fares Estimated')"
   ]
  },
  {
   "cell_type": "markdown",
   "metadata": {
    "_cell_guid": "58556287-b706-46e8-9e8f-e9289cb0f62d",
    "_uuid": "085e8bc212ff7478117381b570b32a048d69927b"
   },
   "source": [
    "## FareBand feature"
   ]
  },
  {
   "cell_type": "code",
   "execution_count": 68,
   "metadata": {
    "_cell_guid": "f7b6005b-a173-421c-ac94-ac2f14c9c183",
    "_uuid": "97b3eec73c454f13d81e0ae1c641fcb2e29f2318"
   },
   "outputs": [
    {
     "name": "stdout",
     "output_type": "stream",
     "text": [
      "FareBand feature created\n"
     ]
    }
   ],
   "source": [
    "#fill in missing Fare value in training set based on mean fare for that Pclass \n",
    "for x in range(len(df_train[\"Fare\"])):\n",
    "    if pd.isnull(df_train[\"Fare\"][x]):\n",
    "        pclass = df_train[\"Pclass\"][x] #Pclass = 3\n",
    "        df_train[\"Fare\"][x] = round(df_train[df_train[\"Pclass\"] == pclass][\"Fare\"].mean(), 4)\n",
    "        \n",
    "#fill in missing Fare value in test set based on mean fare for that Pclass         \n",
    "for x in range(len(df_test[\"Fare\"])):\n",
    "    if pd.isnull(df_test[\"Fare\"][x]):\n",
    "        pclass = df_test[\"Pclass\"][x] #Pclass = 3\n",
    "        df_test[\"Fare\"][x] = round(df_test[df_test[\"Pclass\"] == pclass][\"Fare\"].mean(), 4)\n",
    "        \n",
    "#map Fare values into groups of numerical values\n",
    "df_data[\"FareBand\"] = pd.qcut(df_data['Fare'], 4, labels = [1, 2, 3, 4]).astype('int')\n",
    "df_train[\"FareBand\"] = pd.qcut(df_train['Fare'], 4, labels = [1, 2, 3, 4]).astype('int')\n",
    "df_test[\"FareBand\"] = pd.qcut(df_test['Fare'], 4, labels = [1, 2, 3, 4]).astype('int')\n",
    "df_train[[\"FareBand\", \"Survived\"]].groupby([\"FareBand\"], as_index=False).mean()\n",
    "print('FareBand feature created')"
   ]
  },
  {
   "cell_type": "markdown",
   "metadata": {
    "_cell_guid": "b872a2c8-166d-4e3c-842d-cb05d0dbe026",
    "_uuid": "667caecad9a8266c354211a559f109cc8045eab9"
   },
   "source": [
    "## Embarked Feature"
   ]
  },
  {
   "cell_type": "code",
   "execution_count": 69,
   "metadata": {
    "_cell_guid": "6562ae96-2a2c-475c-910b-26ee2aacb98e",
    "_uuid": "88e9ea060f910b0e6372e50c4e19adb406da6275"
   },
   "outputs": [
    {
     "name": "stdout",
     "output_type": "stream",
     "text": [
      "Embarked feature created\n"
     ]
    },
    {
     "data": {
      "text/html": [
       "<div>\n",
       "<style scoped>\n",
       "    .dataframe tbody tr th:only-of-type {\n",
       "        vertical-align: middle;\n",
       "    }\n",
       "\n",
       "    .dataframe tbody tr th {\n",
       "        vertical-align: top;\n",
       "    }\n",
       "\n",
       "    .dataframe thead th {\n",
       "        text-align: right;\n",
       "    }\n",
       "</style>\n",
       "<table border=\"1\" class=\"dataframe\">\n",
       "  <thead>\n",
       "    <tr style=\"text-align: right;\">\n",
       "      <th></th>\n",
       "      <th>Embarked</th>\n",
       "      <th>Survived</th>\n",
       "    </tr>\n",
       "  </thead>\n",
       "  <tbody>\n",
       "    <tr>\n",
       "      <th>0</th>\n",
       "      <td>1.0</td>\n",
       "      <td>0.336957</td>\n",
       "    </tr>\n",
       "    <tr>\n",
       "      <th>1</th>\n",
       "      <td>2.0</td>\n",
       "      <td>0.553571</td>\n",
       "    </tr>\n",
       "    <tr>\n",
       "      <th>2</th>\n",
       "      <td>3.0</td>\n",
       "      <td>0.389610</td>\n",
       "    </tr>\n",
       "  </tbody>\n",
       "</table>\n",
       "</div>"
      ],
      "text/plain": [
       "   Embarked  Survived\n",
       "0       1.0  0.336957\n",
       "1       2.0  0.553571\n",
       "2       3.0  0.389610"
      ]
     },
     "execution_count": 69,
     "metadata": {},
     "output_type": "execute_result"
    }
   ],
   "source": [
    "#map each Embarked value to a numerical value\n",
    "embarked_mapping = {\"S\": 1, \"C\": 2, \"Q\": 3}\n",
    "df_data[\"Embarked\"] = df_data[\"Embarked\"].map(embarked_mapping)\n",
    "# split Embanked into df_train and df_test:\n",
    "df_train[\"Embarked\"] = df_data[\"Embarked\"][:891]\n",
    "df_test[\"Embarked\"] = df_data[\"Embarked\"][891:]\n",
    "print('Embarked feature created')\n",
    "df_data[['Embarked', 'Survived']].groupby(['Embarked'], as_index=False).mean()"
   ]
  },
  {
   "cell_type": "markdown",
   "metadata": {
    "_cell_guid": "4820654b-3839-4a3b-9795-7edf8b8493ee",
    "_uuid": "03b822c2b89b94e3ce45d4882c38956a99144696"
   },
   "source": [
    "## Estimate missing Embarkation Data"
   ]
  },
  {
   "cell_type": "code",
   "execution_count": 70,
   "metadata": {
    "_cell_guid": "f0e3a8b6-d72f-41fd-81c7-7cbd71a859cf",
    "_uuid": "fa51fe14a830486e1ed5c23e4fe320f1a3392172"
   },
   "outputs": [
    {
     "name": "stdout",
     "output_type": "stream",
     "text": [
      "Missing Embarkation Estimated\n"
     ]
    }
   ],
   "source": [
    "# Fill the na values in Embanked based on fareband data\n",
    "fareband = [1,2,3,4]\n",
    "for fare in fareband:\n",
    "    embark_to_impute = df_data.groupby('FareBand')['Embarked'].median()[fare]\n",
    "    df_data.loc[(df_data['Embarked'].isnull()) & (df_data['FareBand'] == fare), 'Embarked'] = embark_to_impute\n",
    "# Fare in df_train and df_test:\n",
    "df_train[\"Embarked\"] = df_data['Embarked'][:891]\n",
    "df_test[\"Embarked\"] = df_data['Embarked'][891:]\n",
    "print('Missing Embarkation Estimated')"
   ]
  },
  {
   "cell_type": "markdown",
   "metadata": {
    "_cell_guid": "e8e87c51-45c4-461e-9377-d671baa59cb6",
    "_uuid": "08481cfb45e394cfdd55571b7f4848270037e75e"
   },
   "source": [
    "We will come back to fill in the missing age data a little later. Initially i created an estimate based on the mean age and standard deviation, using random numbers to evenly distribute age estimates, which worked, but actually there is a better way using title. As we have not yet extracted the title data yet, we will wait to estimate ages until we have. "
   ]
  },
  {
   "cell_type": "markdown",
   "metadata": {
    "_cell_guid": "f8b580fd-9b71-4f2c-8681-195789fb0be7",
    "_uuid": "3d7d900ea6779c8e24e2d4632fb8175b6b2f4f64"
   },
   "source": [
    "# Feature Engineering\n",
    "Here we are going to manipulate the existing data and try and create features that our model can use. In some cases this is as simple as changing male and female to numeric data like 0 or 1. We can also separate categorical data to values between 1 and 5 for different titles, alternately we could put each categorical value into its own column, and mark columns with a 0 if they don't apply or a 1 if they do. So features may be quite complex so for example calculating cabin numbers based on surname, and ticket details. "
   ]
  },
  {
   "cell_type": "markdown",
   "metadata": {
    "_cell_guid": "42133e77-1cd1-416d-9100-7479a80b1d89",
    "_uuid": "873300197bc688e1350aaf8fe230ad8c57d1c222"
   },
   "source": [
    "##  Gender Feature"
   ]
  },
  {
   "cell_type": "code",
   "execution_count": 71,
   "metadata": {
    "_cell_guid": "23e16cb2-8bf9-4904-b9db-9304368cc857",
    "_uuid": "d1b98799dea36fd35ebd29efdb9cf71b72aa0fae"
   },
   "outputs": [
    {
     "name": "stdout",
     "output_type": "stream",
     "text": [
      "Gender Feature added \n"
     ]
    }
   ],
   "source": [
    "# convert categories to Columns\n",
    "dummies=pd.get_dummies(df_train[['Sex']], prefix_sep='_') #Gender\n",
    "df_train = pd.concat([df_train, dummies], axis=1) \n",
    "testdummies=pd.get_dummies(df_test[['Sex']], prefix_sep='_') #Gender\n",
    "df_test = pd.concat([df_test, testdummies], axis=1) \n",
    "print('Gender Feature added ')"
   ]
  },
  {
   "cell_type": "code",
   "execution_count": 72,
   "metadata": {
    "_cell_guid": "b4a970b2-3eda-466f-bf17-64998499ef38",
    "_uuid": "922c7dad035637b126e82c3d2f929cef696a642d"
   },
   "outputs": [
    {
     "name": "stdout",
     "output_type": "stream",
     "text": [
      "Gender Category created\n"
     ]
    }
   ],
   "source": [
    "#map each Gendre value to a numerical value\n",
    "gender_mapping = {\"female\": 0, \"male\": 1}\n",
    "df_data[\"Sex\"] = df_data['Sex'].map(gender_mapping)\n",
    "df_data[\"Sex\"]=df_data[\"Sex\"].astype('int')\n",
    "\n",
    "# Family_Survival in TRAIN_DF and TEST_DF:\n",
    "df_train[\"Sex\"] = df_data[\"Sex\"][:891]\n",
    "df_test[\"Sex\"] = df_data[\"Sex\"][891:]\n",
    "print('Gender Category created')"
   ]
  },
  {
   "cell_type": "markdown",
   "metadata": {
    "_cell_guid": "73a1e1f3-0c5e-42cc-8cf8-00cecd7d3721",
    "_uuid": "ba21b6f61bafeb38d67a873ac096c91b734d39b5"
   },
   "source": [
    "## Title Feature"
   ]
  },
  {
   "cell_type": "code",
   "execution_count": 73,
   "metadata": {
    "_cell_guid": "a87030f8-df3f-4e9d-ad2a-3605d3b20b0b",
    "_uuid": "37e03baec88e410f0b920fe9e9c77b9ccfdba5d9"
   },
   "outputs": [
    {
     "name": "stdout",
     "output_type": "stream",
     "text": [
      "Title categories added\n"
     ]
    }
   ],
   "source": [
    "#Get titles\n",
    "df_data[\"Title\"] = df_data.Name.str.extract(' ([A-Za-z]+)\\.', expand=False)\n",
    "\n",
    "#Unify common titles. \n",
    "df_data[\"Title\"] = df_data[\"Title\"].replace('Mlle', 'Miss')\n",
    "df_data[\"Title\"] = df_data[\"Title\"].replace('Master', 'Master')\n",
    "df_data[\"Title\"] = df_data[\"Title\"].replace(['Mme', 'Dona', 'Ms'], 'Mrs')\n",
    "df_data[\"Title\"] = df_data[\"Title\"].replace(['Jonkheer','Don'],'Mr')\n",
    "df_data[\"Title\"] = df_data[\"Title\"].replace(['Capt','Major', 'Col','Rev','Dr'], 'Millitary')\n",
    "df_data[\"Title\"] = df_data[\"Title\"].replace(['Lady', 'Countess','Sir'], 'Honor')\n",
    "\n",
    "# Age in df_train and df_test:\n",
    "df_train[\"Title\"] = df_data['Title'][:891]\n",
    "df_test[\"Title\"] = df_data['Title'][891:]\n",
    "\n",
    "# convert Title categories to Columns\n",
    "titledummies=pd.get_dummies(df_train[['Title']], prefix_sep='_') #Title\n",
    "df_train = pd.concat([df_train, titledummies], axis=1) \n",
    "ttitledummies=pd.get_dummies(df_test[['Title']], prefix_sep='_') #Title\n",
    "df_test = pd.concat([df_test, ttitledummies], axis=1) \n",
    "print('Title categories added')"
   ]
  },
  {
   "cell_type": "markdown",
   "metadata": {
    "_cell_guid": "6e8ddee2-7992-47e4-acaf-ada16fc2f3fb",
    "_uuid": "ce0d55f3dc2247dd4403522bedf6ede3c9929c51"
   },
   "source": [
    "## Title Cetegory"
   ]
  },
  {
   "cell_type": "code",
   "execution_count": 74,
   "metadata": {
    "_cell_guid": "25b58c33-0bb0-4140-b5d2-00db768a0847",
    "_uuid": "1841f1df481ac13a11bc86683bef65b53d49afd0"
   },
   "outputs": [
    {
     "name": "stdout",
     "output_type": "stream",
     "text": [
      "Title Category created\n"
     ]
    }
   ],
   "source": [
    "# Mapping titles\n",
    "title_mapping = {\"Mr\": 1, \"Miss\": 2, \"Mrs\": 3, \"Master\": 4, \"Millitary\": 5, \"Honor\": 6}\n",
    "df_data[\"TitleCat\"] = df_data['Title'].map(title_mapping)\n",
    "df_data[\"TitleCat\"] = df_data[\"TitleCat\"].astype(int)\n",
    "df_train[\"TitleCat\"] = df_data[\"TitleCat\"][:891]\n",
    "df_test[\"TitleCat\"] = df_data[\"TitleCat\"][891:]\n",
    "print('Title Category created')"
   ]
  },
  {
   "cell_type": "markdown",
   "metadata": {
    "_cell_guid": "5b65087f-6961-48cc-aefe-0deb4a9b1e83",
    "_uuid": "2bb8ee7bb6ee3f6bc3a9f5fc5d3758f40396ca4e"
   },
   "source": [
    "## Fill age based on title\n",
    "\n",
    "The Visualisations of age by title suggests that if  we  create our age estimate by looking at the passengers title and using the average age for that title it may produce a more accurate estimate.  "
   ]
  },
  {
   "cell_type": "code",
   "execution_count": 75,
   "metadata": {
    "_cell_guid": "65f34a17-e349-4f58-a0de-5bbdb8516c4d",
    "_uuid": "4c138ced404146c2b4bd2f0e5fdf3d9cd7701531"
   },
   "outputs": [
    {
     "name": "stdout",
     "output_type": "stream",
     "text": [
      "Missing Ages Estimated\n"
     ]
    }
   ],
   "source": [
    "titles = ['Master', 'Miss', 'Mr', 'Mrs', 'Millitary','Honor']\n",
    "for title in titles:\n",
    "    age_to_impute = df_data.groupby('Title')['Age'].median()[title]\n",
    "    df_data.loc[(df_data['Age'].isnull()) & (df_data['Title'] == title), 'Age'] = age_to_impute\n",
    "# Age in df_train and df_test:\n",
    "df_train[\"Age\"] = df_data['Age'][:891]\n",
    "df_test[\"Age\"] = df_data['Age'][891:]\n",
    "print('Missing Ages Estimated')"
   ]
  },
  {
   "cell_type": "markdown",
   "metadata": {
    "_cell_guid": "278791f7-2e30-4e9e-aced-7646350993e7",
    "_uuid": "88c9f8d7fb1a843d36fbb7f60c19d2bfcb57364e",
    "collapsed": true
   },
   "source": [
    "## Visualize Age Data"
   ]
  },
  {
   "cell_type": "code",
   "execution_count": 76,
   "metadata": {
    "_cell_guid": "46310750-e237-42ed-8fb4-8e397ed8021e",
    "_uuid": "b43d90e1336791cbb92814d9c76b1038f3efc2e1"
   },
   "outputs": [
    {
     "data": {
      "text/plain": [
       "<seaborn.axisgrid.FacetGrid at 0x7fc27f38a438>"
      ]
     },
     "execution_count": 76,
     "metadata": {},
     "output_type": "execute_result"
    },
    {
     "data": {
      "image/png": "[encoded data removed]",
      "text/plain": [
       "<matplotlib.figure.Figure at 0x7fc27fd03240>"
      ]
     },
     "metadata": {},
     "output_type": "display_data"
    },
    {
     "data": {
      "image/png": "[encoded data removed]",
      "text/plain": [
       "<matplotlib.figure.Figure at 0x7fc27f2a4198>"
      ]
     },
     "metadata": {},
     "output_type": "display_data"
    }
   ],
   "source": [
    "# Visualise Age Data \n",
    "fig, (axis1,axis2) = plt.subplots(1,2,figsize=(15,4))\n",
    "axis1.set_title('Training Age values - Titanic')\n",
    "axis2.set_title('Test Age values - Titanic')\n",
    "\n",
    "# plot original Age values\n",
    "df_train['Age'].dropna().astype(int).hist(bins=70, ax=axis1)\n",
    "#df_test['Age'].dropna().astype(int).hist(bins=70, ax=axis1)\n",
    "        \n",
    "# plot new Age Values\n",
    "#df_train['Age'].hist(bins=70, ax=axis2)\n",
    "df_test['Age'].hist(bins=70, ax=axis2)\n",
    "\n",
    "# peaks for survived/not survived passengers by their age\n",
    "facet = sns.FacetGrid(df_train, hue=\"Survived\",palette = 'seismic',aspect=4)\n",
    "facet.map(sns.kdeplot,'Age',shade= True)\n",
    "facet.set(xlim=(0, df_train['Age'].max()))\n",
    "facet.add_legend()"
   ]
  },
  {
   "cell_type": "code",
   "execution_count": 77,
   "metadata": {
    "_cell_guid": "b1d61706-8a04-472c-afcb-4c5bc1cff3b8",
    "_uuid": "4db2538017a5dffd13828396d702fc1466cb0c7f"
   },
   "outputs": [
    {
     "data": {
      "image/png": "[encoded data removed]",
      "text/plain": [
       "<matplotlib.figure.Figure at 0x7fc293d019b0>"
      ]
     },
     "metadata": {},
     "output_type": "display_data"
    }
   ],
   "source": [
    "sns.boxplot(data = df_train, x = \"Title\", y = \"Age\");"
   ]
  },
  {
   "cell_type": "markdown",
   "metadata": {
    "_cell_guid": "7d1d8177-c410-40ac-bcc4-3a8a7655a607",
    "_uuid": "b8bd16e435f03db3e0be3e0e38b4d011c571dc98"
   },
   "source": [
    "## Lone Travellers Feature "
   ]
  },
  {
   "cell_type": "code",
   "execution_count": 78,
   "metadata": {
    "_cell_guid": "a5e8b97a-c1a0-46a3-ab72-20c9f316fe39",
    "_uuid": "94804f474da36936590adebe2bd836c3425dbc05"
   },
   "outputs": [
    {
     "name": "stdout",
     "output_type": "stream",
     "text": [
      "Lone traveller feature created\n"
     ]
    }
   ],
   "source": [
    "df_train[\"Alone\"] = np.where(df_train['SibSp'] + df_train['Parch'] + 1 == 1, 1,0) # People travelling alone\n",
    "df_test[\"Alone\"] = np.where(df_test['SibSp'] + df_test['Parch'] + 1 == 1, 1,0) # People travelling alone\n",
    "print('Lone traveller feature created')"
   ]
  },
  {
   "cell_type": "markdown",
   "metadata": {
    "_cell_guid": "48736798-d8b0-4c4f-80ea-c767ddf45cb3",
    "_uuid": "bdc2b37c4ed4794c74e5e1e8a8be30cd0482ad1a"
   },
   "source": [
    "## Family Size Feature"
   ]
  },
  {
   "cell_type": "code",
   "execution_count": 79,
   "metadata": {
    "_cell_guid": "af0da412-4654-402e-a7cf-66f06a2c26f0",
    "_uuid": "b28edbd85b8a8f9711629ce170051e79c11fbff1"
   },
   "outputs": [
    {
     "name": "stdout",
     "output_type": "stream",
     "text": [
      "Family size feature created\n"
     ]
    }
   ],
   "source": [
    "df_train[\"Family Size\"] = (df_train['SibSp'] + df_train['Parch'] + 1)\n",
    "df_test[\"Family Size\"] = df_test['SibSp'] + df_test['Parch'] + 1\n",
    "print('Family size feature created')"
   ]
  },
  {
   "cell_type": "markdown",
   "metadata": {
    "_cell_guid": "f4f8b2cf-5e1f-4516-96fa-b4684b54ea93",
    "_uuid": "5ef2960e91f503ce9ae5ef96f4b04909f74d6bd6"
   },
   "source": [
    "## Family Survival\n",
    "\n",
    "This is based on code taken from from https://www.kaggle.com/shunjiangxu/blood-is-thicker-than-water-friendship-forever"
   ]
  },
  {
   "cell_type": "code",
   "execution_count": 80,
   "metadata": {
    "_cell_guid": "d2c8840b-3550-4905-ba71-df5bc9567892",
    "_uuid": "efd286c6c48091714b8a51d6aa4a4577c5b9bdfd"
   },
   "outputs": [
    {
     "name": "stdout",
     "output_type": "stream",
     "text": [
      "Number of passengers with family survival information: 420\n",
      "Number of passenger with family/group survival information: 546\n"
     ]
    }
   ],
   "source": [
    "# get last name\n",
    "df_data[\"Last_Name\"] = df_data['Name'].apply(lambda x: str.split(x, \",\")[0])\n",
    "# Set survival value\n",
    "DEFAULT_SURVIVAL_VALUE = 0.5\n",
    "df_data[\"Family_Survival\"] = DEFAULT_SURVIVAL_VALUE\n",
    "\n",
    "# Find Family groups by Fare\n",
    "for grp, grp_df in df_data[['Survived','Name', 'Last_Name', 'Fare', 'Ticket', 'PassengerId',\n",
    "                           'SibSp', 'Parch', 'Age', 'Cabin']].groupby(['Last_Name', 'Fare']):\n",
    "    \n",
    "    if (len(grp_df) != 1):\n",
    "        # A Family group is found.\n",
    "        for ind, row in grp_df.iterrows():\n",
    "            smax = grp_df.drop(ind)['Survived'].max()\n",
    "            smin = grp_df.drop(ind)['Survived'].min()\n",
    "            passID = row['PassengerId']\n",
    "            if (smax == 1.0):\n",
    "                df_data.loc[df_data['PassengerId'] == passID, 'Family_Survival'] = 1\n",
    "            elif (smin==0.0):\n",
    "                df_data.loc[df_data['PassengerId'] == passID, 'Family_Survival'] = 0\n",
    "\n",
    "print(\"Number of passengers with family survival information:\", \n",
    "      df_data.loc[df_data['Family_Survival']!=0.5].shape[0])\n",
    "\n",
    "# Find Family groups by Ticket\n",
    "for _, grp_df in df_data.groupby('Ticket'):\n",
    "    if (len(grp_df) != 1):\n",
    "        for ind, row in grp_df.iterrows():\n",
    "            if (row['Family_Survival'] == 0) | (row['Family_Survival']== 0.5):\n",
    "                smax = grp_df.drop(ind)['Survived'].max()\n",
    "                smin = grp_df.drop(ind)['Survived'].min()\n",
    "                passID = row['PassengerId']\n",
    "                if (smax == 1.0):\n",
    "                    df_data.loc[df_data['PassengerId'] == passID, 'Family_Survival'] = 1\n",
    "                elif (smin==0.0):\n",
    "                    df_data.loc[df_data['PassengerId'] == passID, 'Family_Survival'] = 0\n",
    "                        \n",
    "print(\"Number of passenger with family/group survival information: \" \n",
    "      +str(df_data[df_data['Family_Survival']!=0.5].shape[0]))\n",
    "\n",
    "# Family_Survival in df_train and df_test:\n",
    "df_train[\"Family_Survival\"] = df_data['Family_Survival'][:891]\n",
    "df_test[\"Family_Survival\"] = df_data['Family_Survival'][891:]"
   ]
  },
  {
   "cell_type": "markdown",
   "metadata": {
    "_cell_guid": "0069ade8-2b34-4be3-8ebe-a29f6b396283",
    "_uuid": "821395bd7d2b3435f2476723067d04fdeaf1a31d"
   },
   "source": [
    "## Cabin feature"
   ]
  },
  {
   "cell_type": "code",
   "execution_count": 81,
   "metadata": {
    "_cell_guid": "cdf5b923-4275-4bb8-a812-58e385c67184",
    "_uuid": "9106eaa1504c1be04bc5155fb79711f50e70a477"
   },
   "outputs": [
    {
     "name": "stdout",
     "output_type": "stream",
     "text": [
      "Cabin feature created\n"
     ]
    }
   ],
   "source": [
    "# check if cabin inf exists\n",
    "df_data[\"HadCabin\"] = (df_data[\"Cabin\"].notnull().astype('int'))\n",
    "# split Embanked into df_train and df_test:\n",
    "df_train[\"HadCabin\"] = df_data[\"HadCabin\"][:891]\n",
    "df_test[\"HadCabin\"] = df_data[\"HadCabin\"][891:]\n",
    "print('Cabin feature created')"
   ]
  },
  {
   "cell_type": "markdown",
   "metadata": {
    "_cell_guid": "d116a6c7-13e4-49c4-93f9-ebea7a24900f",
    "_uuid": "1971f3e584336c047064e7aabf255d1740604076"
   },
   "source": [
    "## Deck feature"
   ]
  },
  {
   "cell_type": "code",
   "execution_count": 82,
   "metadata": {
    "_cell_guid": "5e5c0afe-d43d-40a6-a7ad-305a9c2e6921",
    "_uuid": "1c51d71226a432968085d34b707979fe3c71c2f7"
   },
   "outputs": [
    {
     "name": "stdout",
     "output_type": "stream",
     "text": [
      "Deck feature created\n"
     ]
    }
   ],
   "source": [
    "# Extract Deck\n",
    "df_data[\"Deck\"] = df_data.Cabin.str.extract('([A-Za-z])', expand=False)\n",
    "df_data[\"Deck\"] = df_data[\"Deck\"].fillna(\"N\")\n",
    "# Map Deck\n",
    "deck_mapping = {\"N\":0,\"A\": 1, \"B\": 2, \"C\": 3, \"D\": 4, \"E\": 5}\n",
    "df_data['Deck'] = df_data['Deck'].map(deck_mapping)\n",
    "#Split to training and test\n",
    "df_train[\"Deck\"] = df_data[\"Deck\"][:891]\n",
    "df_test[\"Deck\"] = df_data[\"Deck\"][891:]\n",
    "print('Deck feature created')"
   ]
  },
  {
   "cell_type": "markdown",
   "metadata": {
    "_cell_guid": "127a8ac6-0c34-445d-95d5-a772f8c09d59",
    "_uuid": "ab9fdd9f1f291415911a6391a371fc787f76794d"
   },
   "source": [
    "# Exploring the Engineered data"
   ]
  },
  {
   "cell_type": "markdown",
   "metadata": {
    "_cell_guid": "a93abe26-c2af-43b5-a54a-c783a612a931",
    "_uuid": "5f1b6ffb552a69c959a609840fa868baa69f9650"
   },
   "source": [
    "## Missing Data"
   ]
  },
  {
   "cell_type": "code",
   "execution_count": 83,
   "metadata": {
    "_cell_guid": "c51d7f61-2358-4ea6-8b46-fda58f9135fc",
    "_uuid": "2cd217d4a38e136a9185c5311cd920355d40323e"
   },
   "outputs": [
    {
     "name": "stdout",
     "output_type": "stream",
     "text": [
      "PassengerId          0\n",
      "Pclass               0\n",
      "Name                 0\n",
      "Sex                  0\n",
      "Age                  0\n",
      "SibSp                0\n",
      "Parch                0\n",
      "Ticket               0\n",
      "Fare                 0\n",
      "Cabin              327\n",
      "Embarked             0\n",
      "FareBand             0\n",
      "Sex_female           0\n",
      "Sex_male             0\n",
      "Title                0\n",
      "Title_Master         0\n",
      "Title_Millitary      0\n",
      "Title_Miss           0\n",
      "Title_Mr             0\n",
      "Title_Mrs            0\n",
      "TitleCat             0\n",
      "Alone                0\n",
      "Family Size          0\n",
      "Family_Survival      0\n",
      "HadCabin             0\n",
      "Deck                 9\n",
      "dtype: int64\n"
     ]
    }
   ],
   "source": [
    "#check for any other unusable values\n",
    "print(pd.isnull(df_test).sum())"
   ]
  },
  {
   "cell_type": "markdown",
   "metadata": {
    "_cell_guid": "b510aa95-ace2-46c1-a45e-bfef2bd966cc",
    "_uuid": "4b6d1483c18378c32e1f88f56836232dbe341863"
   },
   "source": [
    "## Statistical Overview"
   ]
  },
  {
   "cell_type": "code",
   "execution_count": 84,
   "metadata": {
    "_cell_guid": "ed4cdefb-de12-4f7b-98e5-b532bc2248ae",
    "_uuid": "db20ccbf0db2f0c3f47a31b7e759a80dbbcce155"
   },
   "outputs": [
    {
     "data": {
      "text/html": [
       "<div>\n",
       "<style scoped>\n",
       "    .dataframe tbody tr th:only-of-type {\n",
       "        vertical-align: middle;\n",
       "    }\n",
       "\n",
       "    .dataframe tbody tr th {\n",
       "        vertical-align: top;\n",
       "    }\n",
       "\n",
       "    .dataframe thead th {\n",
       "        text-align: right;\n",
       "    }\n",
       "</style>\n",
       "<table border=\"1\" class=\"dataframe\">\n",
       "  <thead>\n",
       "    <tr style=\"text-align: right;\">\n",
       "      <th></th>\n",
       "      <th>PassengerId</th>\n",
       "      <th>Survived</th>\n",
       "      <th>Pclass</th>\n",
       "      <th>Sex</th>\n",
       "      <th>Age</th>\n",
       "      <th>SibSp</th>\n",
       "      <th>Parch</th>\n",
       "      <th>Fare</th>\n",
       "      <th>Embarked</th>\n",
       "      <th>FareBand</th>\n",
       "      <th>...</th>\n",
       "      <th>Title_Millitary</th>\n",
       "      <th>Title_Miss</th>\n",
       "      <th>Title_Mr</th>\n",
       "      <th>Title_Mrs</th>\n",
       "      <th>TitleCat</th>\n",
       "      <th>Alone</th>\n",
       "      <th>Family Size</th>\n",
       "      <th>Family_Survival</th>\n",
       "      <th>HadCabin</th>\n",
       "      <th>Deck</th>\n",
       "    </tr>\n",
       "  </thead>\n",
       "  <tbody>\n",
       "    <tr>\n",
       "      <th>count</th>\n",
       "      <td>891.000000</td>\n",
       "      <td>891.000000</td>\n",
       "      <td>891.000000</td>\n",
       "      <td>891.000000</td>\n",
       "      <td>891.000000</td>\n",
       "      <td>891.000000</td>\n",
       "      <td>891.000000</td>\n",
       "      <td>891.000000</td>\n",
       "      <td>891.000000</td>\n",
       "      <td>891.000000</td>\n",
       "      <td>...</td>\n",
       "      <td>891.000000</td>\n",
       "      <td>891.000000</td>\n",
       "      <td>891.000000</td>\n",
       "      <td>891.000000</td>\n",
       "      <td>891.000000</td>\n",
       "      <td>891.000000</td>\n",
       "      <td>891.000000</td>\n",
       "      <td>891.000000</td>\n",
       "      <td>891.000000</td>\n",
       "      <td>873.000000</td>\n",
       "    </tr>\n",
       "    <tr>\n",
       "      <th>mean</th>\n",
       "      <td>446.000000</td>\n",
       "      <td>0.383838</td>\n",
       "      <td>2.308642</td>\n",
       "      <td>0.647587</td>\n",
       "      <td>29.302660</td>\n",
       "      <td>0.523008</td>\n",
       "      <td>0.381594</td>\n",
       "      <td>32.204208</td>\n",
       "      <td>1.361392</td>\n",
       "      <td>2.497194</td>\n",
       "      <td>...</td>\n",
       "      <td>0.020202</td>\n",
       "      <td>0.206510</td>\n",
       "      <td>0.582492</td>\n",
       "      <td>0.142536</td>\n",
       "      <td>1.723906</td>\n",
       "      <td>0.602694</td>\n",
       "      <td>1.904602</td>\n",
       "      <td>0.519641</td>\n",
       "      <td>0.228956</td>\n",
       "      <td>0.662085</td>\n",
       "    </tr>\n",
       "    <tr>\n",
       "      <th>std</th>\n",
       "      <td>257.353842</td>\n",
       "      <td>0.486592</td>\n",
       "      <td>0.836071</td>\n",
       "      <td>0.477990</td>\n",
       "      <td>13.240228</td>\n",
       "      <td>1.102743</td>\n",
       "      <td>0.806057</td>\n",
       "      <td>49.693429</td>\n",
       "      <td>0.635673</td>\n",
       "      <td>1.118156</td>\n",
       "      <td>...</td>\n",
       "      <td>0.140770</td>\n",
       "      <td>0.405028</td>\n",
       "      <td>0.493425</td>\n",
       "      <td>0.349796</td>\n",
       "      <td>1.032114</td>\n",
       "      <td>0.489615</td>\n",
       "      <td>1.613459</td>\n",
       "      <td>0.323961</td>\n",
       "      <td>0.420397</td>\n",
       "      <td>1.387739</td>\n",
       "    </tr>\n",
       "    <tr>\n",
       "      <th>min</th>\n",
       "      <td>1.000000</td>\n",
       "      <td>0.000000</td>\n",
       "      <td>1.000000</td>\n",
       "      <td>0.000000</td>\n",
       "      <td>0.420000</td>\n",
       "      <td>0.000000</td>\n",
       "      <td>0.000000</td>\n",
       "      <td>0.000000</td>\n",
       "      <td>1.000000</td>\n",
       "      <td>1.000000</td>\n",
       "      <td>...</td>\n",
       "      <td>0.000000</td>\n",
       "      <td>0.000000</td>\n",
       "      <td>0.000000</td>\n",
       "      <td>0.000000</td>\n",
       "      <td>1.000000</td>\n",
       "      <td>0.000000</td>\n",
       "      <td>1.000000</td>\n",
       "      <td>0.000000</td>\n",
       "      <td>0.000000</td>\n",
       "      <td>0.000000</td>\n",
       "    </tr>\n",
       "    <tr>\n",
       "      <th>25%</th>\n",
       "      <td>223.500000</td>\n",
       "      <td>0.000000</td>\n",
       "      <td>2.000000</td>\n",
       "      <td>0.000000</td>\n",
       "      <td>22.000000</td>\n",
       "      <td>0.000000</td>\n",
       "      <td>0.000000</td>\n",
       "      <td>7.910400</td>\n",
       "      <td>1.000000</td>\n",
       "      <td>1.500000</td>\n",
       "      <td>...</td>\n",
       "      <td>0.000000</td>\n",
       "      <td>0.000000</td>\n",
       "      <td>0.000000</td>\n",
       "      <td>0.000000</td>\n",
       "      <td>1.000000</td>\n",
       "      <td>0.000000</td>\n",
       "      <td>1.000000</td>\n",
       "      <td>0.500000</td>\n",
       "      <td>0.000000</td>\n",
       "      <td>0.000000</td>\n",
       "    </tr>\n",
       "    <tr>\n",
       "      <th>50%</th>\n",
       "      <td>446.000000</td>\n",
       "      <td>0.000000</td>\n",
       "      <td>3.000000</td>\n",
       "      <td>1.000000</td>\n",
       "      <td>29.000000</td>\n",
       "      <td>0.000000</td>\n",
       "      <td>0.000000</td>\n",
       "      <td>14.454200</td>\n",
       "      <td>1.000000</td>\n",
       "      <td>2.000000</td>\n",
       "      <td>...</td>\n",
       "      <td>0.000000</td>\n",
       "      <td>0.000000</td>\n",
       "      <td>1.000000</td>\n",
       "      <td>0.000000</td>\n",
       "      <td>1.000000</td>\n",
       "      <td>1.000000</td>\n",
       "      <td>1.000000</td>\n",
       "      <td>0.500000</td>\n",
       "      <td>0.000000</td>\n",
       "      <td>0.000000</td>\n",
       "    </tr>\n",
       "    <tr>\n",
       "      <th>75%</th>\n",
       "      <td>668.500000</td>\n",
       "      <td>1.000000</td>\n",
       "      <td>3.000000</td>\n",
       "      <td>1.000000</td>\n",
       "      <td>35.000000</td>\n",
       "      <td>1.000000</td>\n",
       "      <td>0.000000</td>\n",
       "      <td>31.000000</td>\n",
       "      <td>2.000000</td>\n",
       "      <td>3.000000</td>\n",
       "      <td>...</td>\n",
       "      <td>0.000000</td>\n",
       "      <td>0.000000</td>\n",
       "      <td>1.000000</td>\n",
       "      <td>0.000000</td>\n",
       "      <td>2.000000</td>\n",
       "      <td>1.000000</td>\n",
       "      <td>2.000000</td>\n",
       "      <td>0.500000</td>\n",
       "      <td>0.000000</td>\n",
       "      <td>0.000000</td>\n",
       "    </tr>\n",
       "    <tr>\n",
       "      <th>max</th>\n",
       "      <td>891.000000</td>\n",
       "      <td>1.000000</td>\n",
       "      <td>3.000000</td>\n",
       "      <td>1.000000</td>\n",
       "      <td>80.000000</td>\n",
       "      <td>8.000000</td>\n",
       "      <td>6.000000</td>\n",
       "      <td>512.329200</td>\n",
       "      <td>3.000000</td>\n",
       "      <td>4.000000</td>\n",
       "      <td>...</td>\n",
       "      <td>1.000000</td>\n",
       "      <td>1.000000</td>\n",
       "      <td>1.000000</td>\n",
       "      <td>1.000000</td>\n",
       "      <td>6.000000</td>\n",
       "      <td>1.000000</td>\n",
       "      <td>11.000000</td>\n",
       "      <td>1.000000</td>\n",
       "      <td>1.000000</td>\n",
       "      <td>5.000000</td>\n",
       "    </tr>\n",
       "  </tbody>\n",
       "</table>\n",
       "<p>8 rows × 24 columns</p>\n",
       "</div>"
      ],
      "text/plain": [
       "       PassengerId    Survived      Pclass         Sex         Age  \\\n",
       "count   891.000000  891.000000  891.000000  891.000000  891.000000   \n",
       "mean    446.000000    0.383838    2.308642    0.647587   29.302660   \n",
       "std     257.353842    0.486592    0.836071    0.477990   13.240228   \n",
       "min       1.000000    0.000000    1.000000    0.000000    0.420000   \n",
       "25%     223.500000    0.000000    2.000000    0.000000   22.000000   \n",
       "50%     446.000000    0.000000    3.000000    1.000000   29.000000   \n",
       "75%     668.500000    1.000000    3.000000    1.000000   35.000000   \n",
       "max     891.000000    1.000000    3.000000    1.000000   80.000000   \n",
       "\n",
       "            SibSp       Parch        Fare    Embarked    FareBand     ...      \\\n",
       "count  891.000000  891.000000  891.000000  891.000000  891.000000     ...       \n",
       "mean     0.523008    0.381594   32.204208    1.361392    2.497194     ...       \n",
       "std      1.102743    0.806057   49.693429    0.635673    1.118156     ...       \n",
       "min      0.000000    0.000000    0.000000    1.000000    1.000000     ...       \n",
       "25%      0.000000    0.000000    7.910400    1.000000    1.500000     ...       \n",
       "50%      0.000000    0.000000   14.454200    1.000000    2.000000     ...       \n",
       "75%      1.000000    0.000000   31.000000    2.000000    3.000000     ...       \n",
       "max      8.000000    6.000000  512.329200    3.000000    4.000000     ...       \n",
       "\n",
       "       Title_Millitary  Title_Miss    Title_Mr   Title_Mrs    TitleCat  \\\n",
       "count       891.000000  891.000000  891.000000  891.000000  891.000000   \n",
       "mean          0.020202    0.206510    0.582492    0.142536    1.723906   \n",
       "std           0.140770    0.405028    0.493425    0.349796    1.032114   \n",
       "min           0.000000    0.000000    0.000000    0.000000    1.000000   \n",
       "25%           0.000000    0.000000    0.000000    0.000000    1.000000   \n",
       "50%           0.000000    0.000000    1.000000    0.000000    1.000000   \n",
       "75%           0.000000    0.000000    1.000000    0.000000    2.000000   \n",
       "max           1.000000    1.000000    1.000000    1.000000    6.000000   \n",
       "\n",
       "            Alone  Family Size  Family_Survival    HadCabin        Deck  \n",
       "count  891.000000   891.000000       891.000000  891.000000  873.000000  \n",
       "mean     0.602694     1.904602         0.519641    0.228956    0.662085  \n",
       "std      0.489615     1.613459         0.323961    0.420397    1.387739  \n",
       "min      0.000000     1.000000         0.000000    0.000000    0.000000  \n",
       "25%      0.000000     1.000000         0.500000    0.000000    0.000000  \n",
       "50%      1.000000     1.000000         0.500000    0.000000    0.000000  \n",
       "75%      1.000000     2.000000         0.500000    0.000000    0.000000  \n",
       "max      1.000000    11.000000         1.000000    1.000000    5.000000  \n",
       "\n",
       "[8 rows x 24 columns]"
      ]
     },
     "execution_count": 84,
     "metadata": {},
     "output_type": "execute_result"
    }
   ],
   "source": [
    "df_train.describe()"
   ]
  },
  {
   "cell_type": "markdown",
   "metadata": {
    "_cell_guid": "1221771d-4505-4865-8efb-34bd9b643133",
    "_uuid": "f264ea422251e2c02721cd954e2df78c2006ad6a"
   },
   "source": [
    "# Visualizing age data\n",
    "We could estimate all of the ages based on the mean and standard deviation of the data set, however as age is obviously an important feature in pridicting survival and we need to look at the other features and see if we can work out a way to make a more accurate estimate of age for any given passenger. First lets look at the different age distributions of passengers by title."
   ]
  },
  {
   "cell_type": "code",
   "execution_count": 85,
   "metadata": {
    "_cell_guid": "16cbd148-bba4-479c-b12e-fd8e4f3d601d",
    "_uuid": "6316a37319e860411d240ee58e73fe977157a45b"
   },
   "outputs": [
    {
     "data": {
      "image/png": "[encoded data removed]",
      "text/plain": [
       "<matplotlib.figure.Figure at 0x7fc29008dd68>"
      ]
     },
     "metadata": {},
     "output_type": "display_data"
    }
   ],
   "source": [
    "# Groupby title\n",
    "df_train[['Title', 'Survived']].groupby(['Title'], as_index=False).mean()\n",
    "# plot age distribution by title\n",
    "facet = sns.FacetGrid(data = df_train, hue = \"Title\", legend_out=True, size = 5)\n",
    "facet = facet.map(sns.kdeplot, \"Age\")\n",
    "facet.add_legend();"
   ]
  },
  {
   "cell_type": "markdown",
   "metadata": {
    "_cell_guid": "7482e53e-c034-42a0-85aa-9a657e90c20e",
    "_uuid": "aad62a7b5e958339fa3daf0ef666bbad8d0abfea"
   },
   "source": [
    "The age distribution looks slightly suspect and possibly merits further investigation, for example while master generally refers to male's under 16 there a number that are over 40, this might be explained if master is also a title in nautical terms like 'Master Seaman'. You might also expect a quite Normal distribution of ages for any given title, but in many cases this doesn't seem to be the case, this is most likely caused by out estimated numbers skewing the data, one way to avoid this would be to use a random number based on the standard deviation in the estimate for each to get a more natural dataset. We could also use age bands rather than age in the model."
   ]
  },
  {
   "cell_type": "markdown",
   "metadata": {
    "_cell_guid": "6f24c55a-74e1-4789-b430-ebba2d2a234f",
    "_uuid": "cda5452db331d74e319c95053249adc2da8d4477"
   },
   "source": [
    "### Survival by FareBand and Gender "
   ]
  },
  {
   "cell_type": "code",
   "execution_count": 86,
   "metadata": {
    "_cell_guid": "34dc8d59-7425-492e-bb37-8d6856b27536",
    "_uuid": "2ab0e04ade741513a4a7792e6603ee82ef9a264c"
   },
   "outputs": [
    {
     "data": {
      "text/plain": [
       "<seaborn.axisgrid.FacetGrid at 0x7fc290024780>"
      ]
     },
     "execution_count": 86,
     "metadata": {},
     "output_type": "execute_result"
    },
    {
     "data": {
      "image/png": "[encoded data removed]",
      "text/plain": [
       "<matplotlib.figure.Figure at 0x7fc27f0030b8>"
      ]
     },
     "metadata": {},
     "output_type": "display_data"
    }
   ],
   "source": [
    "grid = sns.FacetGrid(df_train, col = \"FareBand\", row = \"Sex\", hue = \"Survived\", palette = 'seismic')\n",
    "grid = grid.map(plt.scatter, \"PassengerId\", \"Age\")\n",
    "grid.add_legend()\n",
    "grid"
   ]
  },
  {
   "cell_type": "markdown",
   "metadata": {
    "_cell_guid": "2ba192cc-6293-4050-a742-dcaa67b6416e",
    "_uuid": "2108bea0ee1fc9d83ad31a1a11f668bf2e24ee38"
   },
   "source": [
    "### Survival by Deck and Gender "
   ]
  },
  {
   "cell_type": "code",
   "execution_count": 87,
   "metadata": {
    "_cell_guid": "531add0d-4a07-4247-bda2-d07e42b85bef",
    "_uuid": "5e0b89f06bff8b5d647e6eb3743abc132c956d62"
   },
   "outputs": [
    {
     "data": {
      "text/plain": [
       "<seaborn.axisgrid.FacetGrid at 0x7fc27ed51a90>"
      ]
     },
     "execution_count": 87,
     "metadata": {},
     "output_type": "execute_result"
    },
    {
     "data": {
      "image/png": "[encoded data removed]",
      "text/plain": [
       "<matplotlib.figure.Figure at 0x7fc27eff4518>"
      ]
     },
     "metadata": {},
     "output_type": "display_data"
    }
   ],
   "source": [
    "grid = sns.FacetGrid(df_train, col = \"Deck\", row = \"Sex\", hue = \"Survived\", palette = 'seismic')\n",
    "grid = grid.map(plt.scatter, \"PassengerId\", \"Age\")\n",
    "grid.add_legend()\n",
    "grid"
   ]
  },
  {
   "cell_type": "markdown",
   "metadata": {
    "_cell_guid": "c6b6a59d-0d55-44f9-a5e4-3dbc78dd213b",
    "_uuid": "05756f61c82449b0a2804b940bc5c9b305e39040"
   },
   "source": [
    "### Survival by Family Size and Gender "
   ]
  },
  {
   "cell_type": "code",
   "execution_count": 88,
   "metadata": {
    "_cell_guid": "14a51b8e-7eea-49c3-91db-59aed6326ff2",
    "_uuid": "10b4e8ce607a6297500cc45ae72e1d1a59861bf4"
   },
   "outputs": [
    {
     "data": {
      "text/plain": [
       "<seaborn.axisgrid.FacetGrid at 0x7fc27e976860>"
      ]
     },
     "execution_count": 88,
     "metadata": {},
     "output_type": "execute_result"
    },
    {
     "data": {
      "image/png": "[encoded data removed]",
      "text/plain": [
       "<matplotlib.figure.Figure at 0x7fc27e921160>"
      ]
     },
     "metadata": {},
     "output_type": "display_data"
    }
   ],
   "source": [
    "grid = sns.FacetGrid(df_train, col = \"Family Size\", row = \"Sex\", hue = \"Survived\", palette = 'seismic')\n",
    "grid = grid.map(plt.scatter, \"PassengerId\", \"Age\")\n",
    "grid.add_legend()\n",
    "grid"
   ]
  },
  {
   "cell_type": "markdown",
   "metadata": {
    "_cell_guid": "63efa126-2a01-4a30-8020-f1aa48110f06",
    "_uuid": "58021ef05643a0238b8d0d5432a7af4d9da7c357"
   },
   "source": [
    "### Survival by Passenger Class and Family Size"
   ]
  },
  {
   "cell_type": "code",
   "execution_count": 89,
   "metadata": {
    "_cell_guid": "5da3b70d-9889-4ce4-9ab7-999052e02b7b",
    "_uuid": "5862c89f842661813d0a9a3c55b1ace0d990ad2d"
   },
   "outputs": [
    {
     "data": {
      "text/plain": [
       "<matplotlib.figure.Figure at 0x7fc282799be0>"
      ]
     },
     "metadata": {},
     "output_type": "display_data"
    },
    {
     "data": {
      "image/png": "[encoded data removed]",
      "text/plain": [
       "<matplotlib.figure.Figure at 0x7fc27e30c550>"
      ]
     },
     "metadata": {},
     "output_type": "display_data"
    },
    {
     "data": {
      "image/png": "[encoded data removed]",
      "text/plain": [
       "<matplotlib.figure.Figure at 0x7fc27e203b00>"
      ]
     },
     "metadata": {},
     "output_type": "display_data"
    }
   ],
   "source": [
    "x1=df_train[df_train[\"Survived\"]==0]\n",
    "x2=df_train[df_train[\"Survived\"]==1]\n",
    "\n",
    "# Set up the matplotlib figure\n",
    "plt.figure(1)\n",
    "sns.jointplot(x=\"Family Size\", y=\"Pclass\", data=x1, kind=\"kde\", color='b');\n",
    "plt.figure(2)\n",
    "sns.jointplot(x=\"Family Size\", y=\"Pclass\", data=x2, kind=\"kde\", color='r');\n",
    "plt.show()"
   ]
  },
  {
   "cell_type": "markdown",
   "metadata": {
    "_cell_guid": "910ee13d-7181-4e07-9332-7fe0d4c96024",
    "_uuid": "77d6372808e34a2931e3ffac62880a590b0b1558"
   },
   "source": [
    "### Fare Jointplot "
   ]
  },
  {
   "cell_type": "code",
   "execution_count": 90,
   "metadata": {
    "_cell_guid": "90ba8a16-086c-4664-a812-a09e7755c1d1",
    "_uuid": "2fa46d8f2cd4229152dd1bf37bcaf4dbcd1aedf8"
   },
   "outputs": [
    {
     "data": {
      "text/plain": [
       "<seaborn.axisgrid.JointGrid at 0x7fc27e32a358>"
      ]
     },
     "execution_count": 90,
     "metadata": {},
     "output_type": "execute_result"
    },
    {
     "data": {
      "text/plain": [
       "<matplotlib.figure.Figure at 0x7fc27e32a4e0>"
      ]
     },
     "metadata": {},
     "output_type": "display_data"
    },
    {
     "data": {
      "image/png": "[encoded data removed]",
      "text/plain": [
       "<matplotlib.figure.Figure at 0x7fc27e7f4320>"
      ]
     },
     "metadata": {},
     "output_type": "display_data"
    },
    {
     "data": {
      "image/png": "[encoded data removed]",
      "text/plain": [
       "<matplotlib.figure.Figure at 0x7fc2880e4278>"
      ]
     },
     "metadata": {},
     "output_type": "display_data"
    }
   ],
   "source": [
    "plt.figure(3)\n",
    "sns.jointplot(data=x1, x='PassengerId', y='Age', kind='scatter',color='b')\n",
    "plt.figure(4)\n",
    "sns.jointplot(data=x2, x='PassengerId', y='Age', kind='scatter',color='r')\n",
    "\n",
    "# sns.plt.show()"
   ]
  },
  {
   "cell_type": "markdown",
   "metadata": {
    "_cell_guid": "9eb86bf1-2838-4aeb-8d63-21e2ec707dca",
    "_uuid": "70b77d246c62e356a9521f8602c844f8ac59c73b"
   },
   "source": [
    "# Re-train the model on new features"
   ]
  },
  {
   "cell_type": "code",
   "execution_count": 91,
   "metadata": {
    "_cell_guid": "cc55e96d-a719-4383-a1d5-9d1504733201",
    "_uuid": "493de5388b78f8a2b12b9d79ab9fbbadad7b9ad0"
   },
   "outputs": [
    {
     "data": {
      "text/html": [
       "<div>\n",
       "<style scoped>\n",
       "    .dataframe tbody tr th:only-of-type {\n",
       "        vertical-align: middle;\n",
       "    }\n",
       "\n",
       "    .dataframe tbody tr th {\n",
       "        vertical-align: top;\n",
       "    }\n",
       "\n",
       "    .dataframe thead th {\n",
       "        text-align: right;\n",
       "    }\n",
       "</style>\n",
       "<table border=\"1\" class=\"dataframe\">\n",
       "  <thead>\n",
       "    <tr style=\"text-align: right;\">\n",
       "      <th></th>\n",
       "      <th>PassengerId</th>\n",
       "      <th>Survived</th>\n",
       "      <th>Pclass</th>\n",
       "      <th>Name</th>\n",
       "      <th>Sex</th>\n",
       "      <th>Age</th>\n",
       "      <th>SibSp</th>\n",
       "      <th>Parch</th>\n",
       "      <th>Ticket</th>\n",
       "      <th>Fare</th>\n",
       "      <th>...</th>\n",
       "      <th>Title_Millitary</th>\n",
       "      <th>Title_Miss</th>\n",
       "      <th>Title_Mr</th>\n",
       "      <th>Title_Mrs</th>\n",
       "      <th>TitleCat</th>\n",
       "      <th>Alone</th>\n",
       "      <th>Family Size</th>\n",
       "      <th>Family_Survival</th>\n",
       "      <th>HadCabin</th>\n",
       "      <th>Deck</th>\n",
       "    </tr>\n",
       "  </thead>\n",
       "  <tbody>\n",
       "    <tr>\n",
       "      <th>0</th>\n",
       "      <td>1</td>\n",
       "      <td>0</td>\n",
       "      <td>3</td>\n",
       "      <td>Braund, Mr. Owen Harris</td>\n",
       "      <td>1</td>\n",
       "      <td>22.0</td>\n",
       "      <td>1</td>\n",
       "      <td>0</td>\n",
       "      <td>A/5 21171</td>\n",
       "      <td>7.2500</td>\n",
       "      <td>...</td>\n",
       "      <td>0</td>\n",
       "      <td>0</td>\n",
       "      <td>1</td>\n",
       "      <td>0</td>\n",
       "      <td>1</td>\n",
       "      <td>0</td>\n",
       "      <td>2</td>\n",
       "      <td>0.5</td>\n",
       "      <td>0</td>\n",
       "      <td>0.0</td>\n",
       "    </tr>\n",
       "    <tr>\n",
       "      <th>1</th>\n",
       "      <td>2</td>\n",
       "      <td>1</td>\n",
       "      <td>1</td>\n",
       "      <td>Cumings, Mrs. John Bradley (Florence Briggs Th...</td>\n",
       "      <td>0</td>\n",
       "      <td>38.0</td>\n",
       "      <td>1</td>\n",
       "      <td>0</td>\n",
       "      <td>PC 17599</td>\n",
       "      <td>71.2833</td>\n",
       "      <td>...</td>\n",
       "      <td>0</td>\n",
       "      <td>0</td>\n",
       "      <td>0</td>\n",
       "      <td>1</td>\n",
       "      <td>3</td>\n",
       "      <td>0</td>\n",
       "      <td>2</td>\n",
       "      <td>0.5</td>\n",
       "      <td>1</td>\n",
       "      <td>3.0</td>\n",
       "    </tr>\n",
       "    <tr>\n",
       "      <th>2</th>\n",
       "      <td>3</td>\n",
       "      <td>1</td>\n",
       "      <td>3</td>\n",
       "      <td>Heikkinen, Miss. Laina</td>\n",
       "      <td>0</td>\n",
       "      <td>26.0</td>\n",
       "      <td>0</td>\n",
       "      <td>0</td>\n",
       "      <td>STON/O2. 3101282</td>\n",
       "      <td>7.9250</td>\n",
       "      <td>...</td>\n",
       "      <td>0</td>\n",
       "      <td>1</td>\n",
       "      <td>0</td>\n",
       "      <td>0</td>\n",
       "      <td>2</td>\n",
       "      <td>1</td>\n",
       "      <td>1</td>\n",
       "      <td>0.5</td>\n",
       "      <td>0</td>\n",
       "      <td>0.0</td>\n",
       "    </tr>\n",
       "    <tr>\n",
       "      <th>3</th>\n",
       "      <td>4</td>\n",
       "      <td>1</td>\n",
       "      <td>1</td>\n",
       "      <td>Futrelle, Mrs. Jacques Heath (Lily May Peel)</td>\n",
       "      <td>0</td>\n",
       "      <td>35.0</td>\n",
       "      <td>1</td>\n",
       "      <td>0</td>\n",
       "      <td>113803</td>\n",
       "      <td>53.1000</td>\n",
       "      <td>...</td>\n",
       "      <td>0</td>\n",
       "      <td>0</td>\n",
       "      <td>0</td>\n",
       "      <td>1</td>\n",
       "      <td>3</td>\n",
       "      <td>0</td>\n",
       "      <td>2</td>\n",
       "      <td>0.0</td>\n",
       "      <td>1</td>\n",
       "      <td>3.0</td>\n",
       "    </tr>\n",
       "    <tr>\n",
       "      <th>4</th>\n",
       "      <td>5</td>\n",
       "      <td>0</td>\n",
       "      <td>3</td>\n",
       "      <td>Allen, Mr. William Henry</td>\n",
       "      <td>1</td>\n",
       "      <td>35.0</td>\n",
       "      <td>0</td>\n",
       "      <td>0</td>\n",
       "      <td>373450</td>\n",
       "      <td>8.0500</td>\n",
       "      <td>...</td>\n",
       "      <td>0</td>\n",
       "      <td>0</td>\n",
       "      <td>1</td>\n",
       "      <td>0</td>\n",
       "      <td>1</td>\n",
       "      <td>1</td>\n",
       "      <td>1</td>\n",
       "      <td>0.5</td>\n",
       "      <td>0</td>\n",
       "      <td>0.0</td>\n",
       "    </tr>\n",
       "  </tbody>\n",
       "</table>\n",
       "<p>5 rows × 28 columns</p>\n",
       "</div>"
      ],
      "text/plain": [
       "   PassengerId  Survived  Pclass  \\\n",
       "0            1         0       3   \n",
       "1            2         1       1   \n",
       "2            3         1       3   \n",
       "3            4         1       1   \n",
       "4            5         0       3   \n",
       "\n",
       "                                                Name  Sex   Age  SibSp  Parch  \\\n",
       "0                            Braund, Mr. Owen Harris    1  22.0      1      0   \n",
       "1  Cumings, Mrs. John Bradley (Florence Briggs Th...    0  38.0      1      0   \n",
       "2                             Heikkinen, Miss. Laina    0  26.0      0      0   \n",
       "3       Futrelle, Mrs. Jacques Heath (Lily May Peel)    0  35.0      1      0   \n",
       "4                           Allen, Mr. William Henry    1  35.0      0      0   \n",
       "\n",
       "             Ticket     Fare  ...  Title_Millitary  Title_Miss  Title_Mr  \\\n",
       "0         A/5 21171   7.2500  ...                0           0         1   \n",
       "1          PC 17599  71.2833  ...                0           0         0   \n",
       "2  STON/O2. 3101282   7.9250  ...                0           1         0   \n",
       "3            113803  53.1000  ...                0           0         0   \n",
       "4            373450   8.0500  ...                0           0         1   \n",
       "\n",
       "   Title_Mrs  TitleCat Alone  Family Size  Family_Survival  HadCabin  Deck  \n",
       "0          0         1     0            2              0.5         0   0.0  \n",
       "1          1         3     0            2              0.5         1   3.0  \n",
       "2          0         2     1            1              0.5         0   0.0  \n",
       "3          1         3     0            2              0.0         1   3.0  \n",
       "4          0         1     1            1              0.5         0   0.0  \n",
       "\n",
       "[5 rows x 28 columns]"
      ]
     },
     "execution_count": 91,
     "metadata": {},
     "output_type": "execute_result"
    }
   ],
   "source": [
    "df_train.head()"
   ]
  },
  {
   "cell_type": "code",
   "execution_count": 92,
   "metadata": {
    "_cell_guid": "aaa2c9cc-234e-455a-bb25-339d5655a286",
    "_uuid": "560b663f936650b7a6c2c844eac395f5de41dd23",
    "scrolled": true
   },
   "outputs": [
    {
     "name": "stdout",
     "output_type": "stream",
     "text": [
      "Evaluation complete\n"
     ]
    }
   ],
   "source": [
    "# Re-evaluate with new features\n",
    "\n",
    "NUMERIC_COLUMNS=['Alone','Family Size','Sex','Pclass','Fare','FareBand','Age','TitleCat','Embarked'] #72\n",
    "ORIGINAL_NUMERIC_COLUMNS=['Pclass','Age','SibSp','Parch','Sex_female','Sex_male','Title_Master', 'Title_Miss','Title_Mr', 'Title_Mrs', 'Title_Millitary','Embarked'] #83\n",
    "REVISED_NUMERIC_COLUMNS=['Pclass','Age','SibSp','Parch','Family_Survival','Alone','Sex_female','Sex_male','Title_Master', 'Title_Miss','Title_Mr', 'Title_Mrs', 'Title_Millitary','Embarked'] #84\n",
    "\n",
    "# create test and training data\n",
    "data_to_train = df_train[REVISED_NUMERIC_COLUMNS].fillna(-1000)\n",
    "y=df_train['Survived']\n",
    "X=data_to_train\n",
    "X_train, X_test, y_train, y_test = train_test_split(X, y, test_size=0.3,random_state=21, stratify=y)\n",
    "\n",
    "clf = SVC()\n",
    "clf.fit(X_train, y_train)\n",
    "print('Evaluation complete')"
   ]
  },
  {
   "cell_type": "markdown",
   "metadata": {
    "_cell_guid": "3d086cc7-4d81-4721-bce3-27c534932251",
    "_uuid": "e45d5debdc77e75fab680ebda9534f3eccf24672"
   },
   "source": [
    "# Re-evaluate the on new features"
   ]
  },
  {
   "cell_type": "code",
   "execution_count": 93,
   "metadata": {
    "_cell_guid": "46625816-d7d8-4ab8-8188-b476c446a853",
    "_kg_hide-input": true,
    "_kg_hide-output": true,
    "_uuid": "4ae404d5a825a31e6d559e23290d7b9990565fbf"
   },
   "outputs": [
    {
     "name": "stdout",
     "output_type": "stream",
     "text": [
      "Accuracy: 0.8432835820895522\n"
     ]
    }
   ],
   "source": [
    "# Print the accuracy# Print  \n",
    "print(\"Accuracy: {}\".format(clf.score(X_test, y_test)))"
   ]
  },
  {
   "cell_type": "markdown",
   "metadata": {
    "_cell_guid": "1ea361c4-4126-4e9d-b548-ea56ef5ae083",
    "_uuid": "f8195440d641ac964d496f1907bb54f64da5a0be"
   },
   "source": [
    "# Re-forcast predictions based on new features"
   ]
  },
  {
   "cell_type": "code",
   "execution_count": 94,
   "metadata": {
    "_cell_guid": "755a1493-f4be-40ae-be33-9ee302882a6f",
    "_uuid": "9fdcd905b7a60429ceb4d62620c388a9faa980a7"
   },
   "outputs": [
    {
     "name": "stdout",
     "output_type": "stream",
     "text": [
      "Submission created\n"
     ]
    }
   ],
   "source": [
    "test = df_test[REVISED_NUMERIC_COLUMNS].fillna(-1000)\n",
    "Submission['Survived']=clf.predict(test)\n",
    "print('Submission created')"
   ]
  },
  {
   "cell_type": "markdown",
   "metadata": {
    "_cell_guid": "0d689a14-d161-407b-9fbe-0545d654da7e",
    "_uuid": "50f117aaa9560e10383d0a4b0d891675c0d328a2"
   },
   "source": [
    "# Make revised submission"
   ]
  },
  {
   "cell_type": "code",
   "execution_count": 95,
   "metadata": {
    "_cell_guid": "f61ee101-471d-4425-9a95-a10e1b269bdf",
    "_uuid": "8971da22e3035e23af2f7b587dcdab60a126d1b9",
    "scrolled": false
   },
   "outputs": [],
   "source": [
    "# write data frame to csv file\n",
    "#Submission.set_index('PassengerId', inplace=True)\n",
    "Submission.to_csv('finalrevised.csv',sep=',')"
   ]
  },
  {
   "cell_type": "markdown",
   "metadata": {
    "_cell_guid": "68850cd4-c427-4f53-8af6-a7f2c9a9df1b",
    "_uuid": "73fb67722c4b233ff29e491955b752f99eb2a539"
   },
   "source": [
    "The second revised submission scored 0.75598 which was an improvement of the original revision which scored 0.64593, this used was  is an improvement on the original score of 0.57894. This advanced the submission to 9117 place on the leaderboard, from the starting point of 10599th place! Obviousy a step in the right direction but still needing work."
   ]
  },
  {
   "cell_type": "markdown",
   "metadata": {
    "_cell_guid": "b4680f97-d9e3-40d8-b5b3-39d914e25965",
    "_uuid": "f3425a2b3b51e62d06f9c7550b485ef25b3c7539"
   },
   "source": [
    "# Stage 3 : Test Different Models and parameters"
   ]
  },
  {
   "cell_type": "markdown",
   "metadata": {
    "_cell_guid": "b506b4f4-e3c2-43a4-a070-75822e288fe7",
    "_uuid": "443ea01c565176c5b6c059653b680651314f0de9"
   },
   "source": [
    "## Split data into test and training"
   ]
  },
  {
   "cell_type": "code",
   "execution_count": 96,
   "metadata": {
    "_cell_guid": "73f4510e-9e33-48b7-96f4-08842da93099",
    "_uuid": "1036293295a5a355f3768ad7fa88457ff8122320"
   },
   "outputs": [],
   "source": [
    "from sklearn.model_selection import train_test_split\n",
    "NUMERIC_COLUMNS=['Alone','Family Size','Sex','Pclass','Fare','Age','TitleCat','FareBand','Embarked']\n",
    "ORIGINAL_NUMERIC_COLUMNS=['Pclass','Age','SibSp','Parch','Sex_female','Sex_male','Title_Master', 'Title_Miss','Title_Mr', 'Title_Mrs', 'Title_Millitary','Embarked']\n",
    "REVISED_NUMERIC_COLUMNS=['Pclass','Age','SibSp','Parch','Family_Survival','Alone','Sex_female','Sex_male','Title_Master', 'Title_Miss','Title_Mr', 'Title_Mrs', 'Title_Millitary','Embarked'] #84\n",
    "\n",
    "# create test and training data\n",
    "predictors = df_train.drop(['Survived', 'PassengerId'], axis=1)\n",
    "data_to_train = df_train[REVISED_NUMERIC_COLUMNS].fillna(-1000)\n",
    "y = df_train[\"Survived\"]\n",
    "x_train, x_val, y_train, y_val = train_test_split(data_to_train, y, test_size = 0.3,random_state=21, stratify=y)"
   ]
  },
  {
   "cell_type": "markdown",
   "metadata": {
    "_cell_guid": "bf4caf90-bb98-4fe9-9722-c3fe88bb1a13",
    "_uuid": "b962efd29e3547c04e01164161d4fdd0bf3d9cd3"
   },
   "source": [
    "## Support Vector Machines\n",
    "\n",
    "Has more flexibility in the choice of penalties and loss functions and should scale better to large numbers of samples.\n",
    "1. This class supports both dense and sparse input and the multiclass support is handled according to a one-vs-the-rest scheme."
   ]
  },
  {
   "cell_type": "code",
   "execution_count": 97,
   "metadata": {
    "_cell_guid": "cc0f0133-b9ec-4d0a-b85f-085b19aaad1c",
    "_uuid": "13b4555bf513117290dd190ac28fed8a7e4b942b"
   },
   "outputs": [
    {
     "name": "stdout",
     "output_type": "stream",
     "text": [
      "84.33\n"
     ]
    }
   ],
   "source": [
    "clf = SVC()\n",
    "\n",
    "clf.fit(x_train, y_train)\n",
    "y_pred = clf.predict(x_val)\n",
    "acc_clf = round(accuracy_score(y_pred, y_val) * 100, 2)\n",
    "print(acc_clf)"
   ]
  },
  {
   "cell_type": "markdown",
   "metadata": {
    "_cell_guid": "a742b2d2-8a94-4414-973b-f3d15a42cf40",
    "_uuid": "71fd9ae20f920a75edb146d963a67db9f7c0c002"
   },
   "source": [
    "## LinearSVC"
   ]
  },
  {
   "cell_type": "code",
   "execution_count": 98,
   "metadata": {
    "_cell_guid": "ce5bd8c0-6ffd-4e35-89fc-62fdc95a29fb",
    "_uuid": "f2144f3e0e6f475dc72d33f8436edf170246bd4c"
   },
   "outputs": [
    {
     "name": "stdout",
     "output_type": "stream",
     "text": [
      "85.07\n"
     ]
    }
   ],
   "source": [
    "# Linear SVC\n",
    "from sklearn.svm import LinearSVC\n",
    "\n",
    "linear_svc = LinearSVC()\n",
    "linear_svc.fit(x_train, y_train)\n",
    "y_pred = linear_svc.predict(x_val)\n",
    "acc_linear_svc = round(accuracy_score(y_pred, y_val) * 100, 2)\n",
    "print(acc_linear_svc)"
   ]
  },
  {
   "cell_type": "markdown",
   "metadata": {
    "_cell_guid": "56a58cc6-8538-419b-9bc6-84bd0443626d",
    "_uuid": "86cd38a1a6fba7114cc59182b80c4480c6d4de58"
   },
   "source": [
    "## Logistic Regression"
   ]
  },
  {
   "cell_type": "code",
   "execution_count": 99,
   "metadata": {
    "_cell_guid": "04e84c8c-3b0a-4a5f-bf4c-3be15e1cfef7",
    "_uuid": "d7fcc417445b5645dce8c36bf2bb02a4cffecbe9",
    "scrolled": false
   },
   "outputs": [
    {
     "name": "stdout",
     "output_type": "stream",
     "text": [
      "85.07\n"
     ]
    }
   ],
   "source": [
    "# Logistic Regression\n",
    "from sklearn.linear_model import LogisticRegression\n",
    "\n",
    "logreg = LogisticRegression()\n",
    "logreg.fit(x_train, y_train)\n",
    "y_pred = logreg.predict(x_val)\n",
    "acc_logreg = round(accuracy_score(y_pred, y_val) * 100, 2)\n",
    "print(acc_logreg)"
   ]
  },
  {
   "cell_type": "markdown",
   "metadata": {
    "_cell_guid": "2f1c6eed-6536-458a-b7e5-934ffde45a62",
    "_uuid": "5dd4fcac5736d6048dd7d47108b53335a7bef7f3"
   },
   "source": [
    "## K Nearest Neighbors"
   ]
  },
  {
   "cell_type": "code",
   "execution_count": 100,
   "metadata": {
    "_cell_guid": "4249ed43-d0ac-4564-80a2-e09f6cf446ee",
    "_uuid": "1afab69791259b2f145d0f533cf4eb6fc4e7ac82"
   },
   "outputs": [
    {
     "name": "stdout",
     "output_type": "stream",
     "text": [
      "82.46\n"
     ]
    }
   ],
   "source": [
    "# KNN or k-Nearest Neighbors\n",
    "from sklearn.neighbors import KNeighborsClassifier\n",
    "\n",
    "knn = KNeighborsClassifier()\n",
    "knn.fit(x_train, y_train)\n",
    "y_pred = knn.predict(x_val)\n",
    "acc_knn = round(accuracy_score(y_pred, y_val) * 100, 2)\n",
    "print(acc_knn)"
   ]
  },
  {
   "cell_type": "markdown",
   "metadata": {
    "_cell_guid": "85b47396-750a-4a35-b415-acea360679d0",
    "_uuid": "f0150561749e08696a0c150fba42f439a1c07f3e"
   },
   "source": [
    "## Gaussian Naive Bayes"
   ]
  },
  {
   "cell_type": "code",
   "execution_count": 101,
   "metadata": {
    "_cell_guid": "6b1a74a3-2834-47ff-aee0-b2bfc68540fc",
    "_uuid": "d24400ad0fac6c28dddd9b6f0b71ceba8a39e653"
   },
   "outputs": [
    {
     "name": "stdout",
     "output_type": "stream",
     "text": [
      "82.09\n"
     ]
    }
   ],
   "source": [
    "# Gaussian Naive Bayes\n",
    "from sklearn.naive_bayes import GaussianNB\n",
    "\n",
    "gaussian = GaussianNB()\n",
    "gaussian.fit(x_train, y_train)\n",
    "y_pred = gaussian.predict(x_val)\n",
    "acc_gaussian = round(accuracy_score(y_pred, y_val) * 100, 2)\n",
    "print(acc_gaussian)"
   ]
  },
  {
   "cell_type": "markdown",
   "metadata": {
    "_cell_guid": "035469fb-4b8d-4d2d-a056-4498f7d4e815",
    "_uuid": "4f5be1e8410b2208897ae8df93f334ee63332805"
   },
   "source": [
    "## Decision Tree"
   ]
  },
  {
   "cell_type": "code",
   "execution_count": 102,
   "metadata": {
    "_cell_guid": "69e9aa91-4451-47ae-95db-e9c8da605311",
    "_uuid": "21cd723ecb8e0b3c517aa7681523ddde3dab0cd8"
   },
   "outputs": [
    {
     "name": "stdout",
     "output_type": "stream",
     "text": [
      "82.09\n"
     ]
    }
   ],
   "source": [
    "#Decision Tree\n",
    "from sklearn.tree import DecisionTreeClassifier\n",
    "\n",
    "decisiontree = DecisionTreeClassifier()\n",
    "decisiontree.fit(x_train, y_train)\n",
    "y_pred = decisiontree.predict(x_val)\n",
    "acc_decisiontree = round(accuracy_score(y_pred, y_val) * 100, 2)\n",
    "print(acc_decisiontree)"
   ]
  },
  {
   "cell_type": "markdown",
   "metadata": {
    "_cell_guid": "074abaa3-522d-43c7-a979-c370d52ae47f",
    "_uuid": "763494c08e2edddef19b49608da458774cb8515f"
   },
   "source": [
    "## Random Forest"
   ]
  },
  {
   "cell_type": "code",
   "execution_count": 103,
   "metadata": {
    "_cell_guid": "104a417c-d913-40fe-81d7-97f71a8db89a",
    "_uuid": "790e9ad10cc6cd242fa959ebec9cc63b9a485996"
   },
   "outputs": [
    {
     "name": "stdout",
     "output_type": "stream",
     "text": [
      "84.33\n"
     ]
    }
   ],
   "source": [
    "# Random Forest\n",
    "from sklearn.ensemble import RandomForestClassifier\n",
    "\n",
    "randomforest = RandomForestClassifier()\n",
    "randomforest.fit(x_train, y_train)\n",
    "y_pred = randomforest.predict(x_val)\n",
    "acc_randomforest = round(accuracy_score(y_pred, y_val) * 100, 2)\n",
    "print(acc_randomforest)"
   ]
  },
  {
   "cell_type": "markdown",
   "metadata": {
    "_cell_guid": "9551bb30-3508-4d35-81c2-087a5266636c",
    "_uuid": "9647c2ca262707f3c3a82c1a7f0040eed862a977"
   },
   "source": [
    "## Gradient Boosting "
   ]
  },
  {
   "cell_type": "code",
   "execution_count": 104,
   "metadata": {
    "_cell_guid": "88a917f8-e75d-48e8-af76-5ee7da57f9dd",
    "_uuid": "64b2374dd1d3ffab3b63085cd9a8dcb9b01b3eec"
   },
   "outputs": [
    {
     "name": "stdout",
     "output_type": "stream",
     "text": [
      "83.96\n"
     ]
    }
   ],
   "source": [
    "# Gradient Boosting Classifier\n",
    "from sklearn.ensemble import GradientBoostingClassifier\n",
    "\n",
    "gbk = GradientBoostingClassifier()\n",
    "gbk.fit(x_train, y_train)\n",
    "y_pred = gbk.predict(x_val)\n",
    "acc_gbk = round(accuracy_score(y_pred, y_val) * 100, 2)\n",
    "print(acc_gbk)"
   ]
  },
  {
   "cell_type": "markdown",
   "metadata": {
    "_cell_guid": "5bc8d24b-28cb-4149-bc24-075b9b40704a",
    "_uuid": "4c4d42523a98602179eaafd80827069e880e1532"
   },
   "source": [
    "## Extra Trees"
   ]
  },
  {
   "cell_type": "code",
   "execution_count": 105,
   "metadata": {
    "_cell_guid": "ad454583-17b9-4742-9505-0bf74391f260",
    "_uuid": "e11760ba734d1cbc8fb3011e6211aee25069cfbe"
   },
   "outputs": [
    {
     "name": "stdout",
     "output_type": "stream",
     "text": [
      "82.09\n"
     ]
    }
   ],
   "source": [
    "ExtraTreesClassifier\n",
    "# Gradient Boosting Classifier\n",
    "from sklearn.ensemble import ExtraTreesClassifier\n",
    "\n",
    "et = ExtraTreesClassifier()\n",
    "et.fit(x_train, y_train)\n",
    "y_pred = et.predict(x_val)\n",
    "acc_et = round(accuracy_score(y_pred, y_val) * 100, 2)\n",
    "print(acc_et)"
   ]
  },
  {
   "cell_type": "markdown",
   "metadata": {
    "_cell_guid": "d66a6c84-133f-4600-83bc-dde061dcd523",
    "_uuid": "8ec249236702ac1e14d9eca31bf9663666b531fa"
   },
   "source": [
    "## Stochastic Gradient Descent"
   ]
  },
  {
   "cell_type": "code",
   "execution_count": 106,
   "metadata": {
    "_cell_guid": "e422b7cc-f6f8-4a35-8de4-119b11409dbe",
    "_uuid": "549cc6b5b02f76aab75a3b025005b40876401a33"
   },
   "outputs": [
    {
     "name": "stdout",
     "output_type": "stream",
     "text": [
      "73.13\n"
     ]
    }
   ],
   "source": [
    "# Stochastic Gradient Descent\n",
    "from sklearn.linear_model import SGDClassifier\n",
    "\n",
    "sgd = SGDClassifier()\n",
    "sgd.fit(x_train, y_train)\n",
    "y_pred = sgd.predict(x_val)\n",
    "acc_sgd = round(accuracy_score(y_pred, y_val) * 100, 2)\n",
    "print(acc_sgd)"
   ]
  },
  {
   "cell_type": "markdown",
   "metadata": {
    "_cell_guid": "89bfe038-5848-48f1-a15c-26d3754ef78f",
    "_uuid": "552db23cb684cd76af3ea10ab23fce512ed5ae3c"
   },
   "source": [
    "### Perceptron"
   ]
  },
  {
   "cell_type": "code",
   "execution_count": 107,
   "metadata": {
    "_cell_guid": "d8e91b01-3d86-44f6-adc8-bd7e8fdc9c2a",
    "_uuid": "7e3ecb050671aa14f75fc60ec86ad522f09e2877"
   },
   "outputs": [
    {
     "name": "stdout",
     "output_type": "stream",
     "text": [
      "60.07\n"
     ]
    }
   ],
   "source": [
    "# Perceptron\n",
    "from sklearn.linear_model import Perceptron\n",
    "\n",
    "perceptron = Perceptron()\n",
    "perceptron.fit(x_train, y_train)\n",
    "y_pred = perceptron.predict(x_val)\n",
    "acc_perceptron = round(accuracy_score(y_pred, y_val) * 100, 2)\n",
    "print(acc_perceptron)"
   ]
  },
  {
   "cell_type": "markdown",
   "metadata": {
    "_uuid": "a21ae223aeda35f12fb190f6f59c738b33395383"
   },
   "source": [
    "## xgboost"
   ]
  },
  {
   "cell_type": "code",
   "execution_count": 108,
   "metadata": {
    "_uuid": "baaff560fa40a7ae80e80e475f22e17e8ac1029a"
   },
   "outputs": [
    {
     "name": "stdout",
     "output_type": "stream",
     "text": [
      "85.82\n"
     ]
    }
   ],
   "source": [
    "# xgboost\n",
    "from xgboost import XGBClassifier\n",
    "\n",
    "xgb = XGBClassifier(n_estimators=10)\n",
    "xgb.fit(x_train, y_train)\n",
    "y_pred = xgb.predict(x_val)\n",
    "acc_xgb = round(accuracy_score(y_pred, y_val) * 100, 2)\n",
    "print(acc_xgb)"
   ]
  },
  {
   "cell_type": "markdown",
   "metadata": {
    "_cell_guid": "29196c0a-5f90-4bdb-88bb-72ad07c12732",
    "_uuid": "e8fadb4412e7274f4fe91daf9f5c899beb9ac80d"
   },
   "source": [
    "## Comparing the results"
   ]
  },
  {
   "cell_type": "code",
   "execution_count": 109,
   "metadata": {
    "_cell_guid": "16e75897-65af-40c4-b236-ea0a3c42c196",
    "_uuid": "476d4fe076dd263d96070206bb616b2549133a15"
   },
   "outputs": [
    {
     "data": {
      "text/html": [
       "<div>\n",
       "<style scoped>\n",
       "    .dataframe tbody tr th:only-of-type {\n",
       "        vertical-align: middle;\n",
       "    }\n",
       "\n",
       "    .dataframe tbody tr th {\n",
       "        vertical-align: top;\n",
       "    }\n",
       "\n",
       "    .dataframe thead th {\n",
       "        text-align: right;\n",
       "    }\n",
       "</style>\n",
       "<table border=\"1\" class=\"dataframe\">\n",
       "  <thead>\n",
       "    <tr style=\"text-align: right;\">\n",
       "      <th></th>\n",
       "      <th>Model</th>\n",
       "      <th>Score</th>\n",
       "    </tr>\n",
       "  </thead>\n",
       "  <tbody>\n",
       "    <tr>\n",
       "      <th>11</th>\n",
       "      <td>xgboost</td>\n",
       "      <td>85.82</td>\n",
       "    </tr>\n",
       "    <tr>\n",
       "      <th>2</th>\n",
       "      <td>Logistic Regression</td>\n",
       "      <td>85.07</td>\n",
       "    </tr>\n",
       "    <tr>\n",
       "      <th>5</th>\n",
       "      <td>Linear SVC</td>\n",
       "      <td>85.07</td>\n",
       "    </tr>\n",
       "    <tr>\n",
       "      <th>0</th>\n",
       "      <td>Support Vector Machines</td>\n",
       "      <td>84.33</td>\n",
       "    </tr>\n",
       "    <tr>\n",
       "      <th>3</th>\n",
       "      <td>Random Forest</td>\n",
       "      <td>84.33</td>\n",
       "    </tr>\n",
       "    <tr>\n",
       "      <th>7</th>\n",
       "      <td>Gradient Boosting Classifier</td>\n",
       "      <td>83.96</td>\n",
       "    </tr>\n",
       "    <tr>\n",
       "      <th>1</th>\n",
       "      <td>KNN</td>\n",
       "      <td>82.46</td>\n",
       "    </tr>\n",
       "    <tr>\n",
       "      <th>4</th>\n",
       "      <td>Naive Bayes</td>\n",
       "      <td>82.09</td>\n",
       "    </tr>\n",
       "    <tr>\n",
       "      <th>6</th>\n",
       "      <td>Decision Tree</td>\n",
       "      <td>82.09</td>\n",
       "    </tr>\n",
       "    <tr>\n",
       "      <th>8</th>\n",
       "      <td>Extra Trees</td>\n",
       "      <td>82.09</td>\n",
       "    </tr>\n",
       "    <tr>\n",
       "      <th>9</th>\n",
       "      <td>Stochastic Gradient Descent</td>\n",
       "      <td>73.13</td>\n",
       "    </tr>\n",
       "    <tr>\n",
       "      <th>10</th>\n",
       "      <td>Perceptron</td>\n",
       "      <td>60.07</td>\n",
       "    </tr>\n",
       "  </tbody>\n",
       "</table>\n",
       "</div>"
      ],
      "text/plain": [
       "                           Model  Score\n",
       "11                       xgboost  85.82\n",
       "2            Logistic Regression  85.07\n",
       "5                     Linear SVC  85.07\n",
       "0        Support Vector Machines  84.33\n",
       "3                  Random Forest  84.33\n",
       "7   Gradient Boosting Classifier  83.96\n",
       "1                            KNN  82.46\n",
       "4                    Naive Bayes  82.09\n",
       "6                  Decision Tree  82.09\n",
       "8                    Extra Trees  82.09\n",
       "9    Stochastic Gradient Descent  73.13\n",
       "10                    Perceptron  60.07"
      ]
     },
     "execution_count": 109,
     "metadata": {},
     "output_type": "execute_result"
    }
   ],
   "source": [
    "models = pd.DataFrame({\n",
    "    'Model': ['Support Vector Machines', 'KNN', 'Logistic Regression', \n",
    "              'Random Forest', 'Naive Bayes', 'Linear SVC', \n",
    "              'Decision Tree', 'Gradient Boosting Classifier','Extra Trees','Stochastic Gradient Descent','Perceptron','xgboost'],\n",
    "    'Score': [acc_clf, acc_knn, acc_logreg, \n",
    "              acc_randomforest, acc_gaussian,acc_linear_svc, acc_decisiontree,\n",
    "             acc_gbk,acc_et,acc_sgd,acc_perceptron,acc_xgb]})\n",
    "models.sort_values(by='Score', ascending=False)"
   ]
  },
  {
   "cell_type": "code",
   "execution_count": 110,
   "metadata": {
    "_cell_guid": "5ac08f20-fc6b-4cb9-9150-f621a2b2230a",
    "_uuid": "60b93ddb0bc22def7ff4ae072e1fb6c728726298"
   },
   "outputs": [
    {
     "data": {
      "text/plain": [
       "XGBClassifier(base_score=0.5, booster='gbtree', colsample_bylevel=1,\n",
       "       colsample_bytree=1, gamma=0, learning_rate=0.1, max_delta_step=0,\n",
       "       max_depth=3, min_child_weight=1, missing=None, n_estimators=10,\n",
       "       n_jobs=1, nthread=None, objective='binary:logistic', random_state=0,\n",
       "       reg_alpha=0, reg_lambda=1, scale_pos_weight=1, seed=None,\n",
       "       silent=True, subsample=1)"
      ]
     },
     "execution_count": 110,
     "metadata": {},
     "output_type": "execute_result"
    }
   ],
   "source": [
    "xgb.fit(x_train, y_train)"
   ]
  },
  {
   "cell_type": "markdown",
   "metadata": {
    "_cell_guid": "e74f1aed-5b01-4a50-a078-2fe91fb4be84",
    "_uuid": "c75a06d718bf4e91ab977472870fc922736f75f3"
   },
   "source": [
    "# Reforcast predictions based on best performing model"
   ]
  },
  {
   "cell_type": "code",
   "execution_count": 111,
   "metadata": {
    "_cell_guid": "7b41f3e8-d98f-44b2-bb76-104a0a2171b7",
    "_uuid": "5a629fec076a8f4a27fc2a785edf4cc728ccc93a"
   },
   "outputs": [
    {
     "name": "stdout",
     "output_type": "stream",
     "text": [
      "             Survived\n",
      "PassengerId          \n",
      "892                 0\n",
      "893                 1\n",
      "894                 0\n",
      "895                 0\n",
      "896                 1\n"
     ]
    }
   ],
   "source": [
    "test = df_test[REVISED_NUMERIC_COLUMNS].fillna(-1000)\n",
    "\n",
    "Submission['Survived']=xgb.predict(test)\n",
    "print(Submission.head(5))"
   ]
  },
  {
   "cell_type": "markdown",
   "metadata": {
    "_cell_guid": "0fd0b448-227e-492d-89a3-9cdd5389f34b",
    "_uuid": "d32f3275adef82a72a3d7f237f923c8f6ee35d07"
   },
   "source": [
    "# Make model submission"
   ]
  },
  {
   "cell_type": "code",
   "execution_count": 112,
   "metadata": {
    "_cell_guid": "7bc66dd8-9b1a-4c85-9aa1-37cc03fe930f",
    "_uuid": "041de4936c148b80686c0e7b346bdd70d0c522b1"
   },
   "outputs": [
    {
     "name": "stdout",
     "output_type": "stream",
     "text": [
      "File created\n"
     ]
    }
   ],
   "source": [
    "# write data frame to csv file\n",
    "#Submission.set_index('PassengerId', inplace=True)\n",
    "#Submission.to_csv('finalsubmission.csv',sep=',')\n",
    "Submission.to_csv('xgbbasicsubmission.csv',sep=',')\n",
    "print('File created')"
   ]
  },
  {
   "cell_type": "markdown",
   "metadata": {
    "_cell_guid": "3099cd36-3434-46b4-a78e-585875de5b0a",
    "_uuid": "e32f127a2a97f13730c1302b8b595b2452e78045"
   },
   "source": [
    "# Stage 4 : Hyper Tuning the Models"
   ]
  },
  {
   "cell_type": "code",
   "execution_count": 113,
   "metadata": {
    "_cell_guid": "1df044b1-f8e6-485e-b1cd-9179c8a04595",
    "_uuid": "dda6888232a077b2da3c2b0ac93e722783327386"
   },
   "outputs": [
    {
     "name": "stdout",
     "output_type": "stream",
     "text": [
      "Data Split\n"
     ]
    }
   ],
   "source": [
    "from sklearn.model_selection import train_test_split\n",
    "NUMERIC_COLUMNS=['Pclass','Age','SibSp','Parch','Sex_female','Sex_male','Title_Master', 'Title_Miss','Title_Mr', 'Title_Mrs', 'Title_Services','FareBand','Embarked','Alone','Family Size']\n",
    "ORIGINAL_NUMERIC_COLUMNS=['Pclass','Age','SibSp','Parch','Sex_female','Sex_male','Title_Master', 'Title_Miss','Title_Mr', 'Title_Mrs', 'Title_Military','Embarked']\n",
    "REVISED_NUMERIC_COLUMNS=['Pclass','Age','SibSp','Parch','Family_Survival','Alone','Sex_female','Sex_male','Title_Master', 'Title_Miss','Title_Mr', 'Title_Mrs', 'Title_Millitary','Embarked','Deck'] #84\n",
    "\n",
    "# create test and training data\n",
    "predictors = df_train.drop(['Survived', 'PassengerId'], axis=1)\n",
    "data_to_train = df_train[REVISED_NUMERIC_COLUMNS].fillna(-1000)\n",
    "X=data_to_train\n",
    "y = df_train[\"Survived\"]\n",
    "x_train, x_val, y_train, y_val = train_test_split(data_to_train, y, test_size = 0.3,random_state=21, stratify=y)\n",
    "print('Data Split')"
   ]
  },
  {
   "cell_type": "markdown",
   "metadata": {
    "_cell_guid": "635b8fd0-3e7b-46b1-bc95-33fe67b36eef",
    "_uuid": "8350b77da7bc61bedc4374f308e09db22ba6df41"
   },
   "source": [
    "\n"
   ]
  },
  {
   "cell_type": "markdown",
   "metadata": {
    "_cell_guid": "09934873-663b-4e24-b589-6f9009d4fa5f",
    "_uuid": "57c4ff97a9449b31e46b75129ebd0e67bec19c9f"
   },
   "source": [
    "## Linear Regression SVC"
   ]
  },
  {
   "cell_type": "code",
   "execution_count": 114,
   "metadata": {
    "_cell_guid": "29cccffb-38c3-40f3-8adb-55bb9e55f3e4",
    "_uuid": "9eb1635f91e2beb04412c47a6a07a6d141778309"
   },
   "outputs": [
    {
     "name": "stdout",
     "output_type": "stream",
     "text": [
      "Tuned SVC Parameters: {'C': 1, 'degree': 1, 'kernel': 'linear', 'max_iter': 2, 'shrinking': 0}\n",
      "Best score is 0.6645264847512039\n",
      "85.82\n"
     ]
    }
   ],
   "source": [
    "from sklearn.model_selection import GridSearchCV\n",
    "\n",
    "# Support Vector Classifier parameters \n",
    "param_grid = {'C':np.arange(1, 7),\n",
    "              'degree':np.arange(1, 7),\n",
    "              'max_iter':np.arange(0, 12),\n",
    "              'kernel':['rbf','linear'],\n",
    "              'shrinking':[0,1]}\n",
    "\n",
    "#sklearn.svm.SVC(C=1.0, kernel='rbf', degree=3, gamma=0.0, coef0=0.0, shrinking=True, probability=False,tol=0.001, cache_size=200, class_weight=None, verbose=False, max_iter=-1, random_state=None)\n",
    "\n",
    "clf = SVC()\n",
    "svc_cv=GridSearchCV(clf, param_grid, cv=10)\n",
    "svc_cv.fit(x_train, y_train)\n",
    "\n",
    "print(\"Tuned SVC Parameters: {}\".format(svc_cv.best_params_))\n",
    "print(\"Best score is {}\".format(svc_cv.best_score_))\n",
    "acc_svc_cv = round(accuracy_score(y_pred, y_val) * 100, 2)\n",
    "print(acc_svc_cv)"
   ]
  },
  {
   "cell_type": "markdown",
   "metadata": {
    "_cell_guid": "d3e7fd18-76fa-47cf-bdf6-8c59edc7a46a",
    "_uuid": "acb983e1342ac4f56181a80a8fd53deb28b4729c"
   },
   "source": [
    "## Logistic Regression"
   ]
  },
  {
   "cell_type": "code",
   "execution_count": 115,
   "metadata": {
    "_cell_guid": "11836eb4-654d-43a4-a6ad-784992ef2cae",
    "_uuid": "0a9d6988a490b93d3c4fa085b6fc326153288b5a"
   },
   "outputs": [
    {
     "name": "stdout",
     "output_type": "stream",
     "text": [
      "Tuned Logistic Regression Parameters: {'solver': 'newton-cg'}\n",
      "Best score is 0.8523274478330658\n",
      "84.7\n"
     ]
    }
   ],
   "source": [
    "# Logistic Regression\n",
    "from sklearn.linear_model import LogisticRegression\n",
    "from sklearn.model_selection import GridSearchCV\n",
    "\n",
    "# create parameter grid as a dictionary where the keys are the hyperparameter names and the values are lists of values that we want to try.\n",
    "param_grid = {\"solver\": ['newton-cg','lbfgs','liblinear','sag','saga']}\n",
    "# instanciate classifier\n",
    "logreg = LogisticRegression()\n",
    "logreg.fit(x_train, y_train)\n",
    "\n",
    "logreg_cv = GridSearchCV(logreg, param_grid, cv=30)\n",
    "logreg_cv.fit(x_train, y_train)\n",
    "\n",
    "y_pred = logreg_cv.predict(x_val)\n",
    "print(\"Tuned Logistic Regression Parameters: {}\".format(logreg_cv.best_params_))\n",
    "print(\"Best score is {}\".format(logreg_cv.best_score_))\n",
    "acc_logreg_cv = round(accuracy_score(y_pred, y_val) * 100, 2)\n",
    "print(acc_logreg_cv)"
   ]
  },
  {
   "cell_type": "markdown",
   "metadata": {
    "_cell_guid": "04a4fb0d-eeb2-4279-bc54-21109f78db3c",
    "_uuid": "637dcc57d021d4e98bcd1acec7153fc968c1cc28"
   },
   "source": [
    "## KNN "
   ]
  },
  {
   "cell_type": "code",
   "execution_count": 116,
   "metadata": {
    "_cell_guid": "ec9d9407-4ee9-47a6-893b-65dd2a5159c5",
    "_uuid": "b4c2895af86e90da19b5c4ee2b2df24d4f6f7275",
    "scrolled": true
   },
   "outputs": [
    {
     "name": "stdout",
     "output_type": "stream",
     "text": [
      "Tuned knn Parameters: {'algorithm': 'brute', 'leaf_size': 20, 'n_neighbors': 5}\n",
      "Best score is 0.8148148148148148\n",
      "88.43\n"
     ]
    }
   ],
   "source": [
    "# KNN or k-Nearest Neighbors with GridSearch\n",
    "from sklearn.neighbors import KNeighborsClassifier\n",
    "from sklearn.model_selection import GridSearchCV\n",
    "\n",
    "# create parameter grid as a dictionary where the keys are the hyperparameter names and the values are lists of values that we want to try.\n",
    "param_grid = {\"n_neighbors\": np.arange(1, 50),\n",
    "             \"leaf_size\": np.arange(20, 40),\n",
    "             \"algorithm\": [\"ball_tree\",\"kd_tree\",\"brute\"]\n",
    "             }\n",
    "# instanciate classifier\n",
    "knn = KNeighborsClassifier()\n",
    "knn.fit(X, y)\n",
    "knn_cv = GridSearchCV(knn, param_grid, cv=10)\n",
    "knn_cv.fit(X, y)\n",
    "y_pred = knn_cv.predict(x_val)\n",
    "print(\"Tuned knn Parameters: {}\".format(knn_cv.best_params_))\n",
    "print(\"Best score is {}\".format(knn_cv.best_score_))\n",
    "acc_knn_cv = round(accuracy_score(y_pred, y_val) * 100, 2)\n",
    "print(acc_knn_cv)"
   ]
  },
  {
   "cell_type": "markdown",
   "metadata": {
    "_cell_guid": "7e923bac-35be-45c1-b6cb-2e53fec7b86c",
    "_uuid": "7d8265bd2bfa6b1db4cbaf28614c623f44c94179"
   },
   "source": [
    "## DecisionTree with RandomizedSearch"
   ]
  },
  {
   "cell_type": "code",
   "execution_count": 117,
   "metadata": {
    "_cell_guid": "96aa7acc-4a15-4ed9-862a-2fe9d053882b",
    "_uuid": "b65ae78b1dc789edf9d9ca9f4845fd84a2f5e45a"
   },
   "outputs": [
    {
     "name": "stdout",
     "output_type": "stream",
     "text": [
      "Tuned Decision Tree Parameters: {'min_samples_leaf': 4, 'max_features': 9, 'max_depth': 3, 'criterion': 'entropy'}\n",
      "Best score is 0.8338945005611672\n",
      "85.82\n"
     ]
    }
   ],
   "source": [
    "# DecisionTree with RandomizedSearch\n",
    "\n",
    "# Import necessary modules\n",
    "from scipy.stats import randint\n",
    "from sklearn.tree import DecisionTreeClassifier\n",
    "from sklearn.model_selection import RandomizedSearchCV\n",
    "\n",
    "# Setup the parameters and distributions to sample from: param_dist\n",
    "param_dist = {\"max_depth\": np.arange(1, 6),\n",
    "              \"max_features\": np.arange(1, 10),\n",
    "              \"min_samples_leaf\": np.arange(1, 6),\n",
    "              \"criterion\": [\"gini\",\"entropy\"]}\n",
    "\n",
    "# Instantiate a Decision Tree classifier: tree\n",
    "tree = DecisionTreeClassifier()\n",
    "\n",
    "# Instantiate the RandomizedSearchCV object: tree_cv\n",
    "tree_cv = RandomizedSearchCV(tree, param_dist, cv=30)\n",
    "\n",
    "# Fit it to the data\n",
    "tree_cv.fit(X,y)\n",
    "y_pred = tree_cv.predict(x_val)\n",
    "# Print the tuned parameters and score\n",
    "print(\"Tuned Decision Tree Parameters: {}\".format(tree_cv.best_params_))\n",
    "print(\"Best score is {}\".format(tree_cv.best_score_))\n",
    "acc_tree_cv = round(accuracy_score(y_pred, y_val) * 100, 2)\n",
    "print(acc_tree_cv)"
   ]
  },
  {
   "cell_type": "markdown",
   "metadata": {
    "_cell_guid": "a0d9a1a5-c205-43e8-bad4-b66dd27cea4d",
    "_uuid": "2e3e0cebc18761c6df40a92d0b0d36aec8893539"
   },
   "source": [
    "## Gradient Boosting"
   ]
  },
  {
   "cell_type": "code",
   "execution_count": 118,
   "metadata": {
    "_cell_guid": "2024cd8a-0e0f-4f95-9041-f8117d91283d",
    "_uuid": "880a91fc3d7019e480e47f85bc232fc6ce4b8951",
    "scrolled": true
   },
   "outputs": [
    {
     "name": "stdout",
     "output_type": "stream",
     "text": [
      "Tuned Gradient Boost Parameters: {'min_samples_leaf': 1, 'max_features': 1, 'max_depth': 5}\n",
      "Best score is 0.8426966292134831\n",
      "84.33\n"
     ]
    }
   ],
   "source": [
    "# Gradient Boosting Classifier\n",
    "from sklearn.ensemble import GradientBoostingClassifier\n",
    "from sklearn.cross_validation import KFold;\n",
    "\n",
    "# Setup the parameters and distributions to sample from: param_dist\n",
    "param_dist = {'max_depth':np.arange(5, 7),\n",
    "              'min_samples_leaf': np.arange(1, 4),\n",
    "              \"max_features\": np.arange(1, 6),\n",
    "             }\n",
    "\n",
    "# Instantiate Classifier\n",
    "gbk = GradientBoostingClassifier()\n",
    "\n",
    "# Instantiate the RandomizedSearchCV object: tree_cv\n",
    "gbk_cv = RandomizedSearchCV(gbk, param_dist, cv=30)\n",
    "\n",
    "gbk_cv.fit(x_train, y_train)\n",
    "y_pred = gbk_cv.predict(x_val)\n",
    "\n",
    "print(\"Tuned Gradient Boost Parameters: {}\".format(gbk_cv.best_params_))\n",
    "print(\"Best score is {}\".format(gbk_cv.best_score_))\n",
    "acc_gbk_cv = round(accuracy_score(y_pred, y_val) * 100, 2)\n",
    "print(acc_gbk_cv)"
   ]
  },
  {
   "cell_type": "markdown",
   "metadata": {
    "_uuid": "3d3f1ee8e4c539f60d73000bb58601e84e14646c"
   },
   "source": [
    "## xgboost"
   ]
  },
  {
   "cell_type": "code",
   "execution_count": 119,
   "metadata": {
    "_uuid": "47693ee2b8c22d94aab27488b8bb61591f07a2aa"
   },
   "outputs": [
    {
     "name": "stdout",
     "output_type": "stream",
     "text": [
      "xgBoost Parameters: {'n_estimators': 50, 'max_depth': 6, 'learning_rate': 0.03}\n",
      "Best score is 0.8491171749598716\n",
      "86.19\n"
     ]
    }
   ],
   "source": [
    "# xgboost\n",
    "from xgboost import XGBClassifier\n",
    "from sklearn.model_selection import RandomizedSearchCV\n",
    "\n",
    "# Setup the parameters and distributions to sample from: param_dist\n",
    "param_dist = {'learning_rate': [.01, .03, .05, .1, .25], #default: .3\n",
    "            'max_depth': [1,2,4,6,8,10], #default 2\n",
    "            'n_estimators': [10, 50, 100, 300], \n",
    "            #'seed': 5  \n",
    "             }\n",
    "# Instantiate Classifier\n",
    "xgb = XGBClassifier()\n",
    "\n",
    "# Instantiate the RandomizedSearchCV object: tree_cv\n",
    "xgb_cv = RandomizedSearchCV(xgb, param_dist, cv=20)\n",
    "\n",
    "# Fit model\n",
    "xgb_cv.fit(x_train, y_train)\n",
    "\n",
    "# Make prediction\n",
    "y_pred = xgb_cv.predict(x_val)\n",
    "\n",
    "# Print results\n",
    "print(\"xgBoost Parameters: {}\".format(xgb_cv.best_params_))\n",
    "print(\"Best score is {}\".format(xgb_cv.best_score_))\n",
    "acc_xgb_cv = round(accuracy_score(y_pred, y_val) * 100, 2)\n",
    "print(acc_xgb_cv)"
   ]
  },
  {
   "cell_type": "markdown",
   "metadata": {
    "_cell_guid": "fe0a6c92-ae79-4b23-9fd3-623d0605fafb",
    "_uuid": "86f584033cab06766198e953020bede5fe2759aa"
   },
   "source": [
    "## Comparing the results of the cross validated tuned models (best result)"
   ]
  },
  {
   "cell_type": "code",
   "execution_count": 120,
   "metadata": {
    "_cell_guid": "462195e0-3dad-497d-86d4-ac89eb75b462",
    "_uuid": "322232b262fd94c31225fa683ac76f5f706fe744"
   },
   "outputs": [
    {
     "data": {
      "text/html": [
       "<div>\n",
       "<style scoped>\n",
       "    .dataframe tbody tr th:only-of-type {\n",
       "        vertical-align: middle;\n",
       "    }\n",
       "\n",
       "    .dataframe tbody tr th {\n",
       "        vertical-align: top;\n",
       "    }\n",
       "\n",
       "    .dataframe thead th {\n",
       "        text-align: right;\n",
       "    }\n",
       "</style>\n",
       "<table border=\"1\" class=\"dataframe\">\n",
       "  <thead>\n",
       "    <tr style=\"text-align: right;\">\n",
       "      <th></th>\n",
       "      <th>optModel</th>\n",
       "      <th>optScore</th>\n",
       "    </tr>\n",
       "  </thead>\n",
       "  <tbody>\n",
       "    <tr>\n",
       "      <th>4</th>\n",
       "      <td>Logistic Regression</td>\n",
       "      <td>0.852327</td>\n",
       "    </tr>\n",
       "    <tr>\n",
       "      <th>5</th>\n",
       "      <td>xgboost</td>\n",
       "      <td>0.849117</td>\n",
       "    </tr>\n",
       "    <tr>\n",
       "      <th>3</th>\n",
       "      <td>Gradient Boost</td>\n",
       "      <td>0.842697</td>\n",
       "    </tr>\n",
       "    <tr>\n",
       "      <th>2</th>\n",
       "      <td>Decision Tree</td>\n",
       "      <td>0.833895</td>\n",
       "    </tr>\n",
       "    <tr>\n",
       "      <th>1</th>\n",
       "      <td>KNN</td>\n",
       "      <td>0.814815</td>\n",
       "    </tr>\n",
       "    <tr>\n",
       "      <th>0</th>\n",
       "      <td>SVC</td>\n",
       "      <td>0.664526</td>\n",
       "    </tr>\n",
       "  </tbody>\n",
       "</table>\n",
       "</div>"
      ],
      "text/plain": [
       "              optModel  optScore\n",
       "4  Logistic Regression  0.852327\n",
       "5              xgboost  0.849117\n",
       "3       Gradient Boost  0.842697\n",
       "2        Decision Tree  0.833895\n",
       "1                  KNN  0.814815\n",
       "0                  SVC  0.664526"
      ]
     },
     "execution_count": 120,
     "metadata": {},
     "output_type": "execute_result"
    }
   ],
   "source": [
    "optmodels = pd.DataFrame({\n",
    "    'optModel': ['SVC','KNN','Decision Tree','Gradient Boost','Logistic Regression','xgboost'],\n",
    "    'optScore': [svc_cv.best_score_,knn_cv.best_score_,tree_cv.best_score_,gbk_cv.best_score_,logreg_cv.best_score_,xgb_cv.best_score_]})\n",
    "optmodels.sort_values(by='optScore', ascending=False)"
   ]
  },
  {
   "cell_type": "markdown",
   "metadata": {
    "_cell_guid": "65fb2739-05e5-4d1b-a756-9b4decc865a1",
    "_uuid": "376c10802e125a57ebc4aa82fb1468c075f3c9a2"
   },
   "source": [
    "## Comparing the results of the tuned models (accuracy)"
   ]
  },
  {
   "cell_type": "code",
   "execution_count": 121,
   "metadata": {
    "_cell_guid": "622c2708-df4e-4c53-b14d-ab9c5020f926",
    "_uuid": "9592eaaa4a63b22f38f7bb9dcaba218af94483cc"
   },
   "outputs": [
    {
     "data": {
      "text/html": [
       "<div>\n",
       "<style scoped>\n",
       "    .dataframe tbody tr th:only-of-type {\n",
       "        vertical-align: middle;\n",
       "    }\n",
       "\n",
       "    .dataframe tbody tr th {\n",
       "        vertical-align: top;\n",
       "    }\n",
       "\n",
       "    .dataframe thead th {\n",
       "        text-align: right;\n",
       "    }\n",
       "</style>\n",
       "<table border=\"1\" class=\"dataframe\">\n",
       "  <thead>\n",
       "    <tr style=\"text-align: right;\">\n",
       "      <th></th>\n",
       "      <th>optModel</th>\n",
       "      <th>optScore</th>\n",
       "    </tr>\n",
       "  </thead>\n",
       "  <tbody>\n",
       "    <tr>\n",
       "      <th>1</th>\n",
       "      <td>KNearestNieghbours</td>\n",
       "      <td>88.43</td>\n",
       "    </tr>\n",
       "    <tr>\n",
       "      <th>5</th>\n",
       "      <td>xgboost</td>\n",
       "      <td>86.19</td>\n",
       "    </tr>\n",
       "    <tr>\n",
       "      <th>0</th>\n",
       "      <td>Linear Regression</td>\n",
       "      <td>85.82</td>\n",
       "    </tr>\n",
       "    <tr>\n",
       "      <th>2</th>\n",
       "      <td>Decision Tree</td>\n",
       "      <td>85.82</td>\n",
       "    </tr>\n",
       "    <tr>\n",
       "      <th>4</th>\n",
       "      <td>Logistic Regression</td>\n",
       "      <td>84.70</td>\n",
       "    </tr>\n",
       "    <tr>\n",
       "      <th>3</th>\n",
       "      <td>Gradient Boost</td>\n",
       "      <td>84.33</td>\n",
       "    </tr>\n",
       "  </tbody>\n",
       "</table>\n",
       "</div>"
      ],
      "text/plain": [
       "              optModel  optScore\n",
       "1   KNearestNieghbours     88.43\n",
       "5              xgboost     86.19\n",
       "0    Linear Regression     85.82\n",
       "2        Decision Tree     85.82\n",
       "4  Logistic Regression     84.70\n",
       "3       Gradient Boost     84.33"
      ]
     },
     "execution_count": 121,
     "metadata": {},
     "output_type": "execute_result"
    }
   ],
   "source": [
    "optmodels = pd.DataFrame({\n",
    "    'optModel': ['Linear Regression','KNearestNieghbours','Decision Tree','Gradient Boost','Logistic Regression','xgboost'],\n",
    "    'optScore': [acc_svc_cv,acc_knn_cv,acc_tree_cv,acc_gbk_cv,acc_logreg_cv,acc_xgb_cv]})\n",
    "optmodels.sort_values(by='optScore', ascending=False)"
   ]
  },
  {
   "cell_type": "markdown",
   "metadata": {
    "_cell_guid": "a6db44f8-1c7e-487a-944a-65d2295e9653",
    "_uuid": "29b6c32d918bf9443b011934423c4264d3d67592"
   },
   "source": [
    "# Optimising the Model\n",
    "\n",
    "Adding parameters to the basic models generally improved the performance on the training data. These gain on the training data did not always translate to the same increase in performance on the test data, due to over fitting. "
   ]
  },
  {
   "cell_type": "markdown",
   "metadata": {
    "_cell_guid": "f337ac46-3fa0-47d3-b9c5-ca96d96f8278",
    "_uuid": "51abbe997d1cc5221c5752e804f01e7b29ee50af"
   },
   "source": [
    "# Predictions based on tuned model"
   ]
  },
  {
   "cell_type": "code",
   "execution_count": 122,
   "metadata": {
    "_cell_guid": "381fa290-fb7a-4950-8d60-a94d10b4a3e2",
    "_uuid": "e91b37e071b2ea2ec02bc8efa727ab5831038ca1"
   },
   "outputs": [
    {
     "name": "stdout",
     "output_type": "stream",
     "text": [
      "             Survived\n",
      "PassengerId          \n",
      "892                 0\n",
      "893                 1\n",
      "894                 0\n",
      "895                 0\n",
      "896                 1\n"
     ]
    }
   ],
   "source": [
    "# Select columns\n",
    "test = df_test[REVISED_NUMERIC_COLUMNS].fillna(-1000)\n",
    "# select classifier\n",
    "#tree = DecisionTreeClassifier(max_depth=4,max_features=9,min_samples_leaf=5,criterion=\"gini\")\n",
    "#logreg = LogisticRegression(solver='newton-cg')\n",
    "xgboost=XGBClassifier(n_estimators= 10, max_depth= 4, learning_rate= 0.1)\n",
    "\n",
    "# train model\n",
    "xgboost.fit(X,y)\n",
    "# make predictions\n",
    "Submission['Survived']=xgboost.predict(test)\n",
    "print(Submission.head(5))"
   ]
  },
  {
   "cell_type": "markdown",
   "metadata": {
    "_cell_guid": "b661a786-5d82-43ec-8c49-9e1c652a577b",
    "_uuid": "d6a49f130fa3e2b5bab23ebf4282a1c3b74368f7"
   },
   "source": [
    "# Make Final model submission"
   ]
  },
  {
   "cell_type": "code",
   "execution_count": 123,
   "metadata": {
    "_cell_guid": "c21a4928-1d97-4dd8-afeb-de89c97962c6",
    "_uuid": "bbd022d8385223bd6a973d7f8a179ad2444355ae"
   },
   "outputs": [
    {
     "name": "stdout",
     "output_type": "stream",
     "text": [
      "File created\n"
     ]
    }
   ],
   "source": [
    "# write data frame to csv file\n",
    "#Submission.set_index('PassengerId', inplace=True)\n",
    "Submission.to_csv('xgboostoptsubmission.csv',sep=',')\n",
    "print('File created')"
   ]
  },
  {
   "cell_type": "markdown",
   "metadata": {
    "_cell_guid": "c0162b2e-f110-4d6a-aeea-6493f5e5a907",
    "_uuid": "ddbacdcb188b189db5cb581c7cd748bb8bf144b5"
   },
   "source": [
    "# Summary\n",
    "\n",
    "In this project we have explored the Titanic Data Set, we have identified missing data and filled then as best we could, we have converted categorical data to columns of numeric features that we can use in machine learning and we have engineered new features based on the data we had. We improved our score from base line of 0.57894 to  a score of 0.78.\n",
    "\n",
    "Going from a score of 0.57 to 0.77 was the relatively easy part, taking it from 7.8 to 0.8 is a whole different ball game. Its really temping to overwork the data trying to find new features that might improve the score but in really what you gain in new features you loose in the noise you've introduce, its also tempting to keep tweak the parameters of your model to get the best possible score on the test data, but gain what you gain in performance on the training data you loose in overfitting. A better approach is to stick to the features that have the strongest relationships and ensure that any data that you are estimating or engineering is as accurate as you can possibly make it. Using cross validation to hyper tune the model while minimising any over fitting of the data.\n",
    "\n",
    "When I initially created the project I kept the test and training data completely separate but am I am rapidly coming to the conclusion that combining the two datasets,  is possibly a better approach for estimating missing data based on averages across the entire dataset. \n",
    "\n",
    "I  looked at a range of different models and compared the accuracy of each model on the training data before deciding which model to use for the third submission. I then hyper tuned  a hanful of the best performing to ensure that I submitted the best performing hyper tuned model.. \n",
    "\n",
    "I havn't come any where near winning this contest yet, but I survived my first Kaggle contest and got a score of over .8 which has my goal. The main thing is that I had fun and learnt a lot along the way by trying different techniques and looking at what other people were doing.\n",
    "\n",
    "I've also created a kernal that uses the same data with deep learning, you can find this at https://www.kaggle.com/davidcoxon/deeply-titanic"
   ]
  },
  {
   "cell_type": "markdown",
   "metadata": {
    "_cell_guid": "ee85a578-c963-42d8-ac8f-0097737527ab",
    "_uuid": "2cbd72ea1657a90ba05e837969cac1f4d8530bb0"
   },
   "source": [
    "# Credit where credits due\n",
    "\n",
    "This competition is predominantly a training exercise and as such I have tried to looks at different approaches and try different techniques to see hw they work.  I have looked at some of the existing entries and adopted some of the tequiques that i have found interesting. So firstly a huge thanks to everyone that look the time to document their code and explain step by step what they did and why.\n",
    "\n",
    "To naming names, some of the notebooks that i found most useful and think deserve special mensions are:\n",
    "\n",
    "### Anisotropic\n",
    "https://www.kaggle.com/arthurtok/introduction-to-ensembling-stacking-in-python/notebook\n",
    "\n",
    "Introduction to Ensembling/Stacking in Python is a very useful project on many levels, in I particular I liked how elegantly this code was written.\n",
    "\n",
    "### Bisaria\n",
    "https://www.kaggle.com/bisaria/titanic-lasso-ridge-implementation/code\n",
    "\n",
    "While this notebook is based on R and I am working in Python, I found some of the visualizations interesting, specifically the port of embarkation and number of siblings and the mosaic. I also liked the idea of the lone traveller feature and the allocation of the cabin data, based on family.\n",
    "\n",
    "### CalebCastleberry\n",
    "https://www.kaggle.com/ccastleberry/titanic-cabin-features\n",
    "\n",
    "This notebook explains the importance of the deck feature and proves you can score 70% on the deck feature alone.\n",
    "\n",
    "### Henrique Mello \n",
    "https://www.kaggle.com/hrmello/introduction-to-data-exploration-using-seaborn/notebook\n",
    "\n",
    "This has some great visualisations of the data and helped me understand the importance of using title in predicting ages when filling in the missing data. \n",
    "\n",
    "### LD Freeman\n",
    "https://www.kaggle.com/ldfreeman3/a-data-science-framework-to-achieve-99-accuracy\n",
    "\n",
    "This not only achieves a fantastic score but is a great tutorial on data science techniques\n",
    "\n",
    "### Nadin Tamer\n",
    "https://www.kaggle.com/nadintamer/titanic-survival-predictions-beginner/notebook\n",
    "\n",
    "I found this another really useful kernel. It is very much a step by step approach, with a particularly good section on different types of model and how they perform for this project.\n",
    "\n",
    "### Omar El Gabry\n",
    "https://www.kaggle.com/omarelgabry/a-journey-through-titanic?scriptVersionId=447802/notebook\n",
    "\n",
    "This kernal has an interesting section on estimating the missing ages and calculating pearson co-efficients for the features.\n",
    "\n",
    "### Oscar Takeshita\n",
    "https://www.kaggle.com/pliptor/divide-and-conquer-0-82296/code\n",
    "\n",
    "This kernal was very useful in trying to get over the 0.8 ceiling, its based on R rather than python so i haven't used any of the code, but it helped me focus on the key fearures and to see the benefits of uing the combined training and test dataset for statistics and calculations rather keeping the two at arms length. \n",
    "\n",
    "### Sina\n",
    "https://www.kaggle.com/sinakhorami/titanic-best-working-classifier?scriptVersionId=566580\n",
    "\n",
    "A lot of high scoring kernals reference this notebook, especially the feature engineering discussed in it.\n",
    "\n",
    "### S.Xu\n",
    "https://www.kaggle.com/shunjiangxu/blood-is-thicker-than-water-friendship-forever\n",
    "\n",
    "This kernal is based on an original kernal by Sina, and it uses the last name and ticket details to find families and firends it then looks at the survival of the group as a whole.\n",
    "\n",
    "\n",
    "\n",
    "\n",
    "\n",
    "\n"
   ]
  },
  {
   "cell_type": "code",
   "execution_count": null,
   "metadata": {
    "_cell_guid": "2ce13c49-8135-4a61-a805-0a8f9463c2cd",
    "_uuid": "b71178dc193b2019857f88ce802f79695d1d6754"
   },
   "outputs": [],
   "source": []
  }
 ],
 "metadata": {
  "kernelspec": {
   "display_name": "Python 3",
   "language": "python",
   "name": "python3"
  },
  "language_info": {
   "codemirror_mode": {
    "name": "ipython",
    "version": 3
   },
   "file_extension": ".py",
   "mimetype": "text/x-python",
   "name": "python",
   "nbconvert_exporter": "python",
   "pygments_lexer": "ipython3",
   "version": "3.6.4"
  }
 },
 "nbformat": 4,
 "nbformat_minor": 1
}
